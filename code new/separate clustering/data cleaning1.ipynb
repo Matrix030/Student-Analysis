{
 "cells": [
  {
   "cell_type": "code",
   "execution_count": 1,
   "id": "temporal-planner",
   "metadata": {},
   "outputs": [],
   "source": [
    "import numpy as np\n",
    "import pandas as pd\n",
    "import seaborn as sns\n",
    "import matplotlib.pyplot as plt\n",
    "%matplotlib inline"
   ]
  },
  {
   "cell_type": "code",
   "execution_count": 2,
   "id": "iraqi-symposium",
   "metadata": {},
   "outputs": [],
   "source": [
    "df = pd.read_csv('G:/SEM 5/mini-project/dataset-new/all_data1.csv', header=0)"
   ]
  },
  {
   "cell_type": "code",
   "execution_count": 3,
   "id": "separated-hurricane",
   "metadata": {},
   "outputs": [
    {
     "data": {
      "text/html": [
       "<div>\n",
       "<style scoped>\n",
       "    .dataframe tbody tr th:only-of-type {\n",
       "        vertical-align: middle;\n",
       "    }\n",
       "\n",
       "    .dataframe tbody tr th {\n",
       "        vertical-align: top;\n",
       "    }\n",
       "\n",
       "    .dataframe thead th {\n",
       "        text-align: right;\n",
       "    }\n",
       "</style>\n",
       "<table border=\"1\" class=\"dataframe\">\n",
       "  <thead>\n",
       "    <tr style=\"text-align: right;\">\n",
       "      <th></th>\n",
       "      <th>AM_SE</th>\n",
       "      <th>AM_IA</th>\n",
       "      <th>DLDA_SE</th>\n",
       "      <th>DLDA_IA</th>\n",
       "      <th>DSGT_SE</th>\n",
       "      <th>DSGT_IA</th>\n",
       "      <th>ECCF_SE</th>\n",
       "      <th>ECCF_IA</th>\n",
       "      <th>DS_SE</th>\n",
       "      <th>DS_IA</th>\n",
       "      <th>DigitalSL_TW</th>\n",
       "      <th>DSL_OP</th>\n",
       "      <th>BE_TW</th>\n",
       "      <th>BE_OP</th>\n",
       "      <th>DataSL_TW</th>\n",
       "      <th>DSL_OP.1</th>\n",
       "      <th>OOPM_TW</th>\n",
       "      <th>OOPM_OP</th>\n",
       "      <th>GPA_SEMIII</th>\n",
       "    </tr>\n",
       "  </thead>\n",
       "  <tbody>\n",
       "    <tr>\n",
       "      <th>0</th>\n",
       "      <td>77</td>\n",
       "      <td>17</td>\n",
       "      <td>52</td>\n",
       "      <td>18</td>\n",
       "      <td>62</td>\n",
       "      <td>20</td>\n",
       "      <td>53</td>\n",
       "      <td>18</td>\n",
       "      <td>53</td>\n",
       "      <td>17</td>\n",
       "      <td>24</td>\n",
       "      <td>23</td>\n",
       "      <td>24</td>\n",
       "      <td>22</td>\n",
       "      <td>24</td>\n",
       "      <td>24</td>\n",
       "      <td>48</td>\n",
       "      <td>46</td>\n",
       "      <td>9.08</td>\n",
       "    </tr>\n",
       "    <tr>\n",
       "      <th>1</th>\n",
       "      <td>77</td>\n",
       "      <td>19</td>\n",
       "      <td>57</td>\n",
       "      <td>18</td>\n",
       "      <td>68</td>\n",
       "      <td>20</td>\n",
       "      <td>58</td>\n",
       "      <td>18</td>\n",
       "      <td>60</td>\n",
       "      <td>18</td>\n",
       "      <td>23</td>\n",
       "      <td>23</td>\n",
       "      <td>23</td>\n",
       "      <td>22</td>\n",
       "      <td>24</td>\n",
       "      <td>24</td>\n",
       "      <td>44</td>\n",
       "      <td>46</td>\n",
       "      <td>9.54</td>\n",
       "    </tr>\n",
       "    <tr>\n",
       "      <th>2</th>\n",
       "      <td>18</td>\n",
       "      <td>8</td>\n",
       "      <td>42</td>\n",
       "      <td>11</td>\n",
       "      <td>47</td>\n",
       "      <td>18</td>\n",
       "      <td>34</td>\n",
       "      <td>12</td>\n",
       "      <td>44</td>\n",
       "      <td>16</td>\n",
       "      <td>23</td>\n",
       "      <td>23</td>\n",
       "      <td>23</td>\n",
       "      <td>22</td>\n",
       "      <td>21</td>\n",
       "      <td>24</td>\n",
       "      <td>42</td>\n",
       "      <td>48</td>\n",
       "      <td>0.00</td>\n",
       "    </tr>\n",
       "    <tr>\n",
       "      <th>3</th>\n",
       "      <td>38</td>\n",
       "      <td>12</td>\n",
       "      <td>52</td>\n",
       "      <td>12</td>\n",
       "      <td>40</td>\n",
       "      <td>18</td>\n",
       "      <td>54</td>\n",
       "      <td>13</td>\n",
       "      <td>60</td>\n",
       "      <td>18</td>\n",
       "      <td>23</td>\n",
       "      <td>22</td>\n",
       "      <td>21</td>\n",
       "      <td>22</td>\n",
       "      <td>24</td>\n",
       "      <td>24</td>\n",
       "      <td>45</td>\n",
       "      <td>46</td>\n",
       "      <td>7.54</td>\n",
       "    </tr>\n",
       "    <tr>\n",
       "      <th>4</th>\n",
       "      <td>55</td>\n",
       "      <td>11</td>\n",
       "      <td>57</td>\n",
       "      <td>13</td>\n",
       "      <td>46</td>\n",
       "      <td>13</td>\n",
       "      <td>42</td>\n",
       "      <td>10</td>\n",
       "      <td>32</td>\n",
       "      <td>14</td>\n",
       "      <td>20</td>\n",
       "      <td>20</td>\n",
       "      <td>21</td>\n",
       "      <td>21</td>\n",
       "      <td>23</td>\n",
       "      <td>22</td>\n",
       "      <td>42</td>\n",
       "      <td>48</td>\n",
       "      <td>7.12</td>\n",
       "    </tr>\n",
       "    <tr>\n",
       "      <th>...</th>\n",
       "      <td>...</td>\n",
       "      <td>...</td>\n",
       "      <td>...</td>\n",
       "      <td>...</td>\n",
       "      <td>...</td>\n",
       "      <td>...</td>\n",
       "      <td>...</td>\n",
       "      <td>...</td>\n",
       "      <td>...</td>\n",
       "      <td>...</td>\n",
       "      <td>...</td>\n",
       "      <td>...</td>\n",
       "      <td>...</td>\n",
       "      <td>...</td>\n",
       "      <td>...</td>\n",
       "      <td>...</td>\n",
       "      <td>...</td>\n",
       "      <td>...</td>\n",
       "      <td>...</td>\n",
       "    </tr>\n",
       "    <tr>\n",
       "      <th>345</th>\n",
       "      <td>32</td>\n",
       "      <td>8</td>\n",
       "      <td>41</td>\n",
       "      <td>10</td>\n",
       "      <td>33</td>\n",
       "      <td>13</td>\n",
       "      <td>37</td>\n",
       "      <td>14</td>\n",
       "      <td>37</td>\n",
       "      <td>14</td>\n",
       "      <td>18</td>\n",
       "      <td>13</td>\n",
       "      <td>23</td>\n",
       "      <td>22</td>\n",
       "      <td>21</td>\n",
       "      <td>16</td>\n",
       "      <td>39</td>\n",
       "      <td>38</td>\n",
       "      <td>5.96</td>\n",
       "    </tr>\n",
       "    <tr>\n",
       "      <th>346</th>\n",
       "      <td>32</td>\n",
       "      <td>10</td>\n",
       "      <td>40</td>\n",
       "      <td>12</td>\n",
       "      <td>43</td>\n",
       "      <td>16</td>\n",
       "      <td>32</td>\n",
       "      <td>11</td>\n",
       "      <td>32</td>\n",
       "      <td>14</td>\n",
       "      <td>19</td>\n",
       "      <td>14</td>\n",
       "      <td>20</td>\n",
       "      <td>19</td>\n",
       "      <td>19</td>\n",
       "      <td>21</td>\n",
       "      <td>36</td>\n",
       "      <td>44</td>\n",
       "      <td>5.77</td>\n",
       "    </tr>\n",
       "    <tr>\n",
       "      <th>347</th>\n",
       "      <td>32</td>\n",
       "      <td>15</td>\n",
       "      <td>32</td>\n",
       "      <td>15</td>\n",
       "      <td>32</td>\n",
       "      <td>11</td>\n",
       "      <td>38</td>\n",
       "      <td>9</td>\n",
       "      <td>32</td>\n",
       "      <td>10</td>\n",
       "      <td>23</td>\n",
       "      <td>17</td>\n",
       "      <td>18</td>\n",
       "      <td>20</td>\n",
       "      <td>22</td>\n",
       "      <td>22</td>\n",
       "      <td>47</td>\n",
       "      <td>47</td>\n",
       "      <td>5.62</td>\n",
       "    </tr>\n",
       "    <tr>\n",
       "      <th>348</th>\n",
       "      <td>21</td>\n",
       "      <td>11</td>\n",
       "      <td>9</td>\n",
       "      <td>4</td>\n",
       "      <td>10</td>\n",
       "      <td>8</td>\n",
       "      <td>2</td>\n",
       "      <td>6</td>\n",
       "      <td>2</td>\n",
       "      <td>7</td>\n",
       "      <td>15</td>\n",
       "      <td>17</td>\n",
       "      <td>19</td>\n",
       "      <td>17</td>\n",
       "      <td>21</td>\n",
       "      <td>11</td>\n",
       "      <td>39</td>\n",
       "      <td>34</td>\n",
       "      <td>0.00</td>\n",
       "    </tr>\n",
       "    <tr>\n",
       "      <th>349</th>\n",
       "      <td>12</td>\n",
       "      <td>4</td>\n",
       "      <td>20</td>\n",
       "      <td>3</td>\n",
       "      <td>32</td>\n",
       "      <td>8</td>\n",
       "      <td>26</td>\n",
       "      <td>8</td>\n",
       "      <td>11</td>\n",
       "      <td>5</td>\n",
       "      <td>22</td>\n",
       "      <td>17</td>\n",
       "      <td>19</td>\n",
       "      <td>18</td>\n",
       "      <td>18</td>\n",
       "      <td>12</td>\n",
       "      <td>36</td>\n",
       "      <td>26</td>\n",
       "      <td>0.00</td>\n",
       "    </tr>\n",
       "  </tbody>\n",
       "</table>\n",
       "<p>350 rows × 19 columns</p>\n",
       "</div>"
      ],
      "text/plain": [
       "     AM_SE  AM_IA  DLDA_SE  DLDA_IA  DSGT_SE  DSGT_IA  ECCF_SE  ECCF_IA  \\\n",
       "0       77     17       52       18       62       20       53       18   \n",
       "1       77     19       57       18       68       20       58       18   \n",
       "2       18      8       42       11       47       18       34       12   \n",
       "3       38     12       52       12       40       18       54       13   \n",
       "4       55     11       57       13       46       13       42       10   \n",
       "..     ...    ...      ...      ...      ...      ...      ...      ...   \n",
       "345     32      8       41       10       33       13       37       14   \n",
       "346     32     10       40       12       43       16       32       11   \n",
       "347     32     15       32       15       32       11       38        9   \n",
       "348     21     11        9        4       10        8        2        6   \n",
       "349     12      4       20        3       32        8       26        8   \n",
       "\n",
       "     DS_SE  DS_IA  DigitalSL_TW  DSL_OP  BE_TW  BE_OP  DataSL_TW  DSL_OP.1  \\\n",
       "0       53     17            24      23     24     22         24        24   \n",
       "1       60     18            23      23     23     22         24        24   \n",
       "2       44     16            23      23     23     22         21        24   \n",
       "3       60     18            23      22     21     22         24        24   \n",
       "4       32     14            20      20     21     21         23        22   \n",
       "..     ...    ...           ...     ...    ...    ...        ...       ...   \n",
       "345     37     14            18      13     23     22         21        16   \n",
       "346     32     14            19      14     20     19         19        21   \n",
       "347     32     10            23      17     18     20         22        22   \n",
       "348      2      7            15      17     19     17         21        11   \n",
       "349     11      5            22      17     19     18         18        12   \n",
       "\n",
       "     OOPM_TW  OOPM_OP  GPA_SEMIII  \n",
       "0         48       46        9.08  \n",
       "1         44       46        9.54  \n",
       "2         42       48        0.00  \n",
       "3         45       46        7.54  \n",
       "4         42       48        7.12  \n",
       "..       ...      ...         ...  \n",
       "345       39       38        5.96  \n",
       "346       36       44        5.77  \n",
       "347       47       47        5.62  \n",
       "348       39       34        0.00  \n",
       "349       36       26        0.00  \n",
       "\n",
       "[350 rows x 19 columns]"
      ]
     },
     "execution_count": 3,
     "metadata": {},
     "output_type": "execute_result"
    }
   ],
   "source": [
    "df"
   ]
  },
  {
   "cell_type": "code",
   "execution_count": 4,
   "id": "secure-haven",
   "metadata": {},
   "outputs": [
    {
     "name": "stdout",
     "output_type": "stream",
     "text": [
      "<class 'pandas.core.frame.DataFrame'>\n",
      "RangeIndex: 350 entries, 0 to 349\n",
      "Data columns (total 19 columns):\n",
      " #   Column        Non-Null Count  Dtype  \n",
      "---  ------        --------------  -----  \n",
      " 0   AM_SE         350 non-null    int64  \n",
      " 1   AM_IA         350 non-null    int64  \n",
      " 2   DLDA_SE       350 non-null    int64  \n",
      " 3   DLDA_IA       350 non-null    int64  \n",
      " 4   DSGT_SE       350 non-null    int64  \n",
      " 5   DSGT_IA       350 non-null    int64  \n",
      " 6   ECCF_SE       350 non-null    int64  \n",
      " 7   ECCF_IA       350 non-null    int64  \n",
      " 8   DS_SE         350 non-null    int64  \n",
      " 9   DS_IA         350 non-null    int64  \n",
      " 10  DigitalSL_TW  350 non-null    int64  \n",
      " 11  DSL_OP        350 non-null    int64  \n",
      " 12  BE_TW         350 non-null    int64  \n",
      " 13  BE_OP         350 non-null    int64  \n",
      " 14  DataSL_TW     350 non-null    int64  \n",
      " 15  DSL_OP.1      350 non-null    int64  \n",
      " 16  OOPM_TW       350 non-null    int64  \n",
      " 17  OOPM_OP       350 non-null    int64  \n",
      " 18  GPA_SEMIII    350 non-null    float64\n",
      "dtypes: float64(1), int64(18)\n",
      "memory usage: 52.1 KB\n"
     ]
    }
   ],
   "source": [
    "df.info()"
   ]
  },
  {
   "cell_type": "code",
   "execution_count": 5,
   "id": "pregnant-routine",
   "metadata": {},
   "outputs": [
    {
     "name": "stdout",
     "output_type": "stream",
     "text": [
      "0.0\n"
     ]
    }
   ],
   "source": [
    "min_GPA = df['GPA_SEMIII'].quantile(0.1)\n",
    "print(min_GPA)"
   ]
  },
  {
   "cell_type": "code",
   "execution_count": 6,
   "id": "steady-virgin",
   "metadata": {},
   "outputs": [],
   "source": [
    "df1 = df[df[\"GPA_SEMIII\"]>min_GPA]"
   ]
  },
  {
   "cell_type": "code",
   "execution_count": null,
   "id": "beneficial-disposition",
   "metadata": {},
   "outputs": [],
   "source": []
  },
  {
   "cell_type": "code",
   "execution_count": 7,
   "id": "fatal-diving",
   "metadata": {},
   "outputs": [
    {
     "data": {
      "text/plain": [
       "<seaborn.axisgrid.JointGrid at 0x27e7ff5a3a0>"
      ]
     },
     "execution_count": 7,
     "metadata": {},
     "output_type": "execute_result"
    },
    {
     "data": {
      "image/png": "[encoded data removed]",
      "text/plain": [
       "<Figure size 432x432 with 3 Axes>"
      ]
     },
     "metadata": {
      "needs_background": "light"
     },
     "output_type": "display_data"
    }
   ],
   "source": [
    "sns.jointplot(x='AM_SE', y='GPA_SEMIII', data=df1)"
   ]
  },
  {
   "cell_type": "code",
   "execution_count": 8,
   "id": "moderate-police",
   "metadata": {},
   "outputs": [
    {
     "data": {
      "text/plain": [
       "<seaborn.axisgrid.JointGrid at 0x27e7ff5ad00>"
      ]
     },
     "execution_count": 8,
     "metadata": {},
     "output_type": "execute_result"
    },
    {
     "data": {
      "image/png": "[encoded data removed]",
      "text/plain": [
       "<Figure size 432x432 with 3 Axes>"
      ]
     },
     "metadata": {
      "needs_background": "light"
     },
     "output_type": "display_data"
    }
   ],
   "source": [
    "sns.jointplot(x='AM_IA', y='GPA_SEMIII', data=df1)"
   ]
  },
  {
   "cell_type": "code",
   "execution_count": 9,
   "id": "accredited-joshua",
   "metadata": {},
   "outputs": [
    {
     "data": {
      "text/plain": [
       "<seaborn.axisgrid.JointGrid at 0x27e7ff5a340>"
      ]
     },
     "execution_count": 9,
     "metadata": {},
     "output_type": "execute_result"
    },
    {
     "data": {
      "image/png": "[encoded data removed]",
      "text/plain": [
       "<Figure size 432x432 with 3 Axes>"
      ]
     },
     "metadata": {
      "needs_background": "light"
     },
     "output_type": "display_data"
    }
   ],
   "source": [
    "sns.jointplot(x='DLDA_SE', y='GPA_SEMIII', data=df1)"
   ]
  },
  {
   "cell_type": "code",
   "execution_count": 10,
   "id": "through-utility",
   "metadata": {},
   "outputs": [
    {
     "data": {
      "text/plain": [
       "<seaborn.axisgrid.JointGrid at 0x27e093e9160>"
      ]
     },
     "execution_count": 10,
     "metadata": {},
     "output_type": "execute_result"
    },
    {
     "data": {
      "image/png": "[encoded data removed]",
      "text/plain": [
       "<Figure size 432x432 with 3 Axes>"
      ]
     },
     "metadata": {
      "needs_background": "light"
     },
     "output_type": "display_data"
    }
   ],
   "source": [
    "sns.jointplot(x='DLDA_IA', y='GPA_SEMIII', data=df1)"
   ]
  },
  {
   "cell_type": "code",
   "execution_count": 11,
   "id": "copyrighted-wisdom",
   "metadata": {},
   "outputs": [
    {
     "data": {
      "text/plain": [
       "<seaborn.axisgrid.JointGrid at 0x27e0952a5e0>"
      ]
     },
     "execution_count": 11,
     "metadata": {},
     "output_type": "execute_result"
    },
    {
     "data": {
      "image/png": "[encoded data removed]",
      "text/plain": [
       "<Figure size 432x432 with 3 Axes>"
      ]
     },
     "metadata": {
      "needs_background": "light"
     },
     "output_type": "display_data"
    }
   ],
   "source": [
    "sns.jointplot(x='DSGT_SE', y='GPA_SEMIII', data=df1)"
   ]
  },
  {
   "cell_type": "code",
   "execution_count": 12,
   "id": "mounted-quarter",
   "metadata": {},
   "outputs": [
    {
     "data": {
      "text/plain": [
       "<seaborn.axisgrid.JointGrid at 0x27e096353d0>"
      ]
     },
     "execution_count": 12,
     "metadata": {},
     "output_type": "execute_result"
    },
    {
     "data": {
      "image/png": "[encoded data removed]",
      "text/plain": [
       "<Figure size 432x432 with 3 Axes>"
      ]
     },
     "metadata": {
      "needs_background": "light"
     },
     "output_type": "display_data"
    }
   ],
   "source": [
    "sns.jointplot(x='DSGT_IA', y='GPA_SEMIII', data=df1)"
   ]
  },
  {
   "cell_type": "code",
   "execution_count": 13,
   "id": "italian-identifier",
   "metadata": {},
   "outputs": [
    {
     "data": {
      "text/plain": [
       "<seaborn.axisgrid.JointGrid at 0x27e09757df0>"
      ]
     },
     "execution_count": 13,
     "metadata": {},
     "output_type": "execute_result"
    },
    {
     "data": {
      "image/png": "[encoded data removed]",
      "text/plain": [
       "<Figure size 432x432 with 3 Axes>"
      ]
     },
     "metadata": {
      "needs_background": "light"
     },
     "output_type": "display_data"
    }
   ],
   "source": [
    "sns.jointplot(x='DLDA_SE', y='GPA_SEMIII', data=df1)"
   ]
  },
  {
   "cell_type": "code",
   "execution_count": 14,
   "id": "moving-dutch",
   "metadata": {},
   "outputs": [
    {
     "data": {
      "text/plain": [
       "<seaborn.axisgrid.JointGrid at 0x27e098a95e0>"
      ]
     },
     "execution_count": 14,
     "metadata": {},
     "output_type": "execute_result"
    },
    {
     "data": {
      "image/png": "[encoded data removed]",
      "text/plain": [
       "<Figure size 432x432 with 3 Axes>"
      ]
     },
     "metadata": {
      "needs_background": "light"
     },
     "output_type": "display_data"
    }
   ],
   "source": [
    "sns.jointplot(x='DLDA_IA', y='GPA_SEMIII', data=df1)"
   ]
  },
  {
   "cell_type": "code",
   "execution_count": 15,
   "id": "collaborative-institute",
   "metadata": {},
   "outputs": [
    {
     "data": {
      "text/plain": [
       "array([8.])"
      ]
     },
     "execution_count": 15,
     "metadata": {},
     "output_type": "execute_result"
    }
   ],
   "source": [
    "np.percentile(df1.AM_IA, [1])"
   ]
  },
  {
   "cell_type": "code",
   "execution_count": 16,
   "id": "western-genome",
   "metadata": {},
   "outputs": [
    {
     "data": {
      "text/plain": [
       "8.0"
      ]
     },
     "execution_count": 16,
     "metadata": {},
     "output_type": "execute_result"
    }
   ],
   "source": [
    "np.percentile(df1.AM_IA, [1])[0]"
   ]
  },
  {
   "cell_type": "code",
   "execution_count": 17,
   "id": "previous-freedom",
   "metadata": {},
   "outputs": [],
   "source": [
    "uv = np.percentile(df1.AM_IA, [1])[0]"
   ]
  },
  {
   "cell_type": "code",
   "execution_count": 18,
   "id": "absolute-gregory",
   "metadata": {},
   "outputs": [
    {
     "data": {
      "text/html": [
       "<div>\n",
       "<style scoped>\n",
       "    .dataframe tbody tr th:only-of-type {\n",
       "        vertical-align: middle;\n",
       "    }\n",
       "\n",
       "    .dataframe tbody tr th {\n",
       "        vertical-align: top;\n",
       "    }\n",
       "\n",
       "    .dataframe thead th {\n",
       "        text-align: right;\n",
       "    }\n",
       "</style>\n",
       "<table border=\"1\" class=\"dataframe\">\n",
       "  <thead>\n",
       "    <tr style=\"text-align: right;\">\n",
       "      <th></th>\n",
       "      <th>AM_SE</th>\n",
       "      <th>AM_IA</th>\n",
       "      <th>DLDA_SE</th>\n",
       "      <th>DLDA_IA</th>\n",
       "      <th>DSGT_SE</th>\n",
       "      <th>DSGT_IA</th>\n",
       "      <th>ECCF_SE</th>\n",
       "      <th>ECCF_IA</th>\n",
       "      <th>DS_SE</th>\n",
       "      <th>DS_IA</th>\n",
       "      <th>DigitalSL_TW</th>\n",
       "      <th>DSL_OP</th>\n",
       "      <th>BE_TW</th>\n",
       "      <th>BE_OP</th>\n",
       "      <th>DataSL_TW</th>\n",
       "      <th>DSL_OP.1</th>\n",
       "      <th>OOPM_TW</th>\n",
       "      <th>OOPM_OP</th>\n",
       "      <th>GPA_SEMIII</th>\n",
       "    </tr>\n",
       "  </thead>\n",
       "  <tbody>\n",
       "    <tr>\n",
       "      <th>197</th>\n",
       "      <td>52</td>\n",
       "      <td>4</td>\n",
       "      <td>44</td>\n",
       "      <td>6</td>\n",
       "      <td>48</td>\n",
       "      <td>11</td>\n",
       "      <td>33</td>\n",
       "      <td>6</td>\n",
       "      <td>44</td>\n",
       "      <td>13</td>\n",
       "      <td>15</td>\n",
       "      <td>20</td>\n",
       "      <td>15</td>\n",
       "      <td>17</td>\n",
       "      <td>15</td>\n",
       "      <td>16</td>\n",
       "      <td>31</td>\n",
       "      <td>36</td>\n",
       "      <td>5.92</td>\n",
       "    </tr>\n",
       "  </tbody>\n",
       "</table>\n",
       "</div>"
      ],
      "text/plain": [
       "     AM_SE  AM_IA  DLDA_SE  DLDA_IA  DSGT_SE  DSGT_IA  ECCF_SE  ECCF_IA  \\\n",
       "197     52      4       44        6       48       11       33        6   \n",
       "\n",
       "     DS_SE  DS_IA  DigitalSL_TW  DSL_OP  BE_TW  BE_OP  DataSL_TW  DSL_OP.1  \\\n",
       "197     44     13            15      20     15     17         15        16   \n",
       "\n",
       "     OOPM_TW  OOPM_OP  GPA_SEMIII  \n",
       "197       31       36        5.92  "
      ]
     },
     "execution_count": 18,
     "metadata": {},
     "output_type": "execute_result"
    }
   ],
   "source": [
    "df1[(df1.AM_IA < uv)]"
   ]
  },
  {
   "cell_type": "code",
   "execution_count": 19,
   "id": "corresponding-worthy",
   "metadata": {},
   "outputs": [
    {
     "name": "stderr",
     "output_type": "stream",
     "text": [
      "<ipython-input-19-ef77f446c9a6>:1: SettingWithCopyWarning: \n",
      "A value is trying to be set on a copy of a slice from a DataFrame\n",
      "\n",
      "See the caveats in the documentation: https://pandas.pydata.org/pandas-docs/stable/user_guide/indexing.html#returning-a-view-versus-a-copy\n",
      "  df1.AM_IA[(df1.AM_IA < 2*uv)] = 2*uv\n",
      "c:\\users\\shardul\\appdata\\local\\programs\\python\\python39\\lib\\site-packages\\pandas\\core\\generic.py:8870: SettingWithCopyWarning: \n",
      "A value is trying to be set on a copy of a slice from a DataFrame\n",
      "\n",
      "See the caveats in the documentation: https://pandas.pydata.org/pandas-docs/stable/user_guide/indexing.html#returning-a-view-versus-a-copy\n",
      "  return self._update_inplace(result)\n"
     ]
    }
   ],
   "source": [
    "df1.AM_IA[(df1.AM_IA < 2*uv)] = 2*uv"
   ]
  },
  {
   "cell_type": "code",
   "execution_count": 20,
   "id": "fallen-duplicate",
   "metadata": {},
   "outputs": [
    {
     "name": "stdout",
     "output_type": "stream",
     "text": [
      "16.0\n"
     ]
    }
   ],
   "source": [
    "print(2*uv)"
   ]
  },
  {
   "cell_type": "code",
   "execution_count": 21,
   "id": "general-effort",
   "metadata": {},
   "outputs": [
    {
     "data": {
      "text/html": [
       "<div>\n",
       "<style scoped>\n",
       "    .dataframe tbody tr th:only-of-type {\n",
       "        vertical-align: middle;\n",
       "    }\n",
       "\n",
       "    .dataframe tbody tr th {\n",
       "        vertical-align: top;\n",
       "    }\n",
       "\n",
       "    .dataframe thead th {\n",
       "        text-align: right;\n",
       "    }\n",
       "</style>\n",
       "<table border=\"1\" class=\"dataframe\">\n",
       "  <thead>\n",
       "    <tr style=\"text-align: right;\">\n",
       "      <th></th>\n",
       "      <th>AM_SE</th>\n",
       "      <th>AM_IA</th>\n",
       "      <th>DLDA_SE</th>\n",
       "      <th>DLDA_IA</th>\n",
       "      <th>DSGT_SE</th>\n",
       "      <th>DSGT_IA</th>\n",
       "      <th>ECCF_SE</th>\n",
       "      <th>ECCF_IA</th>\n",
       "      <th>DS_SE</th>\n",
       "      <th>DS_IA</th>\n",
       "      <th>DigitalSL_TW</th>\n",
       "      <th>DSL_OP</th>\n",
       "      <th>BE_TW</th>\n",
       "      <th>BE_OP</th>\n",
       "      <th>DataSL_TW</th>\n",
       "      <th>DSL_OP.1</th>\n",
       "      <th>OOPM_TW</th>\n",
       "      <th>OOPM_OP</th>\n",
       "      <th>GPA_SEMIII</th>\n",
       "    </tr>\n",
       "  </thead>\n",
       "  <tbody>\n",
       "  </tbody>\n",
       "</table>\n",
       "</div>"
      ],
      "text/plain": [
       "Empty DataFrame\n",
       "Columns: [AM_SE, AM_IA, DLDA_SE, DLDA_IA, DSGT_SE, DSGT_IA, ECCF_SE, ECCF_IA, DS_SE, DS_IA, DigitalSL_TW, DSL_OP, BE_TW, BE_OP, DataSL_TW, DSL_OP.1, OOPM_TW, OOPM_OP, GPA_SEMIII]\n",
       "Index: []"
      ]
     },
     "execution_count": 21,
     "metadata": {},
     "output_type": "execute_result"
    }
   ],
   "source": [
    "df1[(df1.AM_IA < uv)]"
   ]
  },
  {
   "cell_type": "code",
   "execution_count": null,
   "id": "interesting-booking",
   "metadata": {},
   "outputs": [],
   "source": []
  }
 ],
 "metadata": {
  "kernelspec": {
   "display_name": "Python 3",
   "language": "python",
   "name": "python3"
  },
  "language_info": {
   "codemirror_mode": {
    "name": "ipython",
    "version": 3
   },
   "file_extension": ".py",
   "mimetype": "text/x-python",
   "name": "python",
   "nbconvert_exporter": "python",
   "pygments_lexer": "ipython3",
   "version": "3.9.1"
  }
 },
 "nbformat": 4,
 "nbformat_minor": 5
}
