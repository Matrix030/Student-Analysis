{
 "cells": [
  {
   "cell_type": "code",
   "execution_count": 1,
   "id": "compound-terminal",
   "metadata": {},
   "outputs": [],
   "source": [
    "import numpy as np\n",
    "import pandas as pd\n",
    "import seaborn as sns"
   ]
  },
  {
   "cell_type": "code",
   "execution_count": 2,
   "id": "civil-montana",
   "metadata": {},
   "outputs": [],
   "source": [
    "df = pd.read_csv('G:/SEM 5/mini-project/code new/separate clustering/cluster4.csv', header=0)"
   ]
  },
  {
   "cell_type": "code",
   "execution_count": 3,
   "id": "living-faith",
   "metadata": {},
   "outputs": [
    {
     "name": "stdout",
     "output_type": "stream",
     "text": [
      "<class 'pandas.core.frame.DataFrame'>\n",
      "RangeIndex: 327 entries, 0 to 326\n",
      "Data columns (total 23 columns):\n",
      " #   Column      Non-Null Count  Dtype  \n",
      "---  ------      --------------  -----  \n",
      " 0   Unnamed: 0  327 non-null    int64  \n",
      " 1   AM4_SE      327 non-null    int64  \n",
      " 2   AM4_IA      327 non-null    int64  \n",
      " 3   AOA_SE      327 non-null    int64  \n",
      " 4   AOA_IA      327 non-null    int64  \n",
      " 5   COA_SE      327 non-null    int64  \n",
      " 6   COA_IA      327 non-null    int64  \n",
      " 7   CG_SE       327 non-null    int64  \n",
      " 8   CG_IA       327 non-null    int64  \n",
      " 9   OS_SE       327 non-null    int64  \n",
      " 10  OS_IA       327 non-null    int64  \n",
      " 11  AOA_TW      327 non-null    int64  \n",
      " 12  AOA_OP      327 non-null    int64  \n",
      " 13  CG_TW       327 non-null    int64  \n",
      " 14  CG_OP       327 non-null    int64  \n",
      " 15  PAL_TW      327 non-null    int64  \n",
      " 16  PAL_OP      327 non-null    int64  \n",
      " 17  OS_TW       327 non-null    int64  \n",
      " 18  OS_OP       327 non-null    int64  \n",
      " 19  OPST_TW     327 non-null    int64  \n",
      " 20  OPST_OP     327 non-null    int64  \n",
      " 21  GPA_SEM_4   327 non-null    float64\n",
      " 22  cluster     327 non-null    int64  \n",
      "dtypes: float64(1), int64(22)\n",
      "memory usage: 58.9 KB\n"
     ]
    }
   ],
   "source": [
    "df.info()"
   ]
  },
  {
   "cell_type": "code",
   "execution_count": 4,
   "id": "flexible-methodology",
   "metadata": {},
   "outputs": [],
   "source": [
    "from sklearn.model_selection import train_test_split"
   ]
  },
  {
   "cell_type": "code",
   "execution_count": 5,
   "id": "behavioral-bidder",
   "metadata": {},
   "outputs": [],
   "source": [
    "y = df['cluster'].values\n",
    "y\n",
    "X = df.values\n",
    "X = np.delete(X,22,axis=1)\n",
    "X = np.delete(X,0,axis=1)"
   ]
  },
  {
   "cell_type": "code",
   "execution_count": 6,
   "id": "excited-viking",
   "metadata": {},
   "outputs": [],
   "source": [
    "X_train, X_test, y_train, y_test = train_test_split(X,y,test_size=0.33,random_state=0)"
   ]
  },
  {
   "cell_type": "code",
   "execution_count": 7,
   "id": "great-valley",
   "metadata": {},
   "outputs": [
    {
     "data": {
      "text/plain": [
       "SVC(kernel='linear', random_state=0)"
      ]
     },
     "execution_count": 7,
     "metadata": {},
     "output_type": "execute_result"
    }
   ],
   "source": [
    "from sklearn.svm import SVC # \"Support vector classifier\"  \n",
    "classifier = SVC(kernel='linear', random_state=0)  \n",
    "classifier.fit(X_train, y_train) "
   ]
  },
  {
   "cell_type": "code",
   "execution_count": 8,
   "id": "rural-malta",
   "metadata": {},
   "outputs": [
    {
     "data": {
      "text/plain": [
       "0.9074074074074074"
      ]
     },
     "execution_count": 8,
     "metadata": {},
     "output_type": "execute_result"
    }
   ],
   "source": [
    "classifier.score(X_test, y_test)"
   ]
  },
  {
   "cell_type": "code",
   "execution_count": 9,
   "id": "vocal-knock",
   "metadata": {},
   "outputs": [],
   "source": [
    "import pickle"
   ]
  },
  {
   "cell_type": "code",
   "execution_count": 10,
   "id": "conventional-breathing",
   "metadata": {},
   "outputs": [],
   "source": [
    "pickle.dump(classifier, open('sem4model.pkl','wb'))"
   ]
  },
  {
   "cell_type": "code",
   "execution_count": 11,
   "id": "strategic-gardening",
   "metadata": {},
   "outputs": [],
   "source": [
    "NBmodel = pickle.load(open('sem4model.pkl','rb'))"
   ]
  },
  {
   "cell_type": "code",
   "execution_count": 12,
   "id": "thorough-bleeding",
   "metadata": {},
   "outputs": [],
   "source": [
    "X_test\n",
    "X_test1 = pd.DataFrame(X_test)\n",
    "\n",
    "abc = X_test1\n",
    "abc.to_csv(\"X_test sem4.csv\")"
   ]
  }
 ],
 "metadata": {
  "kernelspec": {
   "display_name": "Python 3",
   "language": "python",
   "name": "python3"
  },
  "language_info": {
   "codemirror_mode": {
    "name": "ipython",
    "version": 3
   },
   "file_extension": ".py",
   "mimetype": "text/x-python",
   "name": "python",
   "nbconvert_exporter": "python",
   "pygments_lexer": "ipython3",
   "version": "3.9.1"
  }
 },
 "nbformat": 4,
 "nbformat_minor": 5
}
