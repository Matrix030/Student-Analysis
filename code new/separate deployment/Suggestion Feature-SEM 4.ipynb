{
 "cells": [
  {
   "cell_type": "markdown",
   "id": "b53a344d",
   "metadata": {},
   "source": [
    "# Suggestion Feature  SEM 4"
   ]
  },
  {
   "cell_type": "code",
   "execution_count": 19,
   "id": "8a6cd536",
   "metadata": {},
   "outputs": [],
   "source": [
    "# Add ranges for OOP for all Clusters\n",
    "#dict = {key: values}\n",
    "#key = Cluster Number\n",
    "#values = Range of that particular Cluster\n",
    "#int_features = Marks Obtained\n",
    "int_features = [73,20,68,18,64,19,60,19,52,18,24,25,24,22,23,22,24,24,23,23,9.56]\n",
    "dict = {0:[63, 16.5, 21, 20.5],\n",
    "        1:[47.5, 13, 20.5, 19],\n",
    "        2:[56, 14.5, 21, 20],\n",
    "        3:[68.5, 17.5, 22.5, 22.5],\n",
    "        4:[45.5, 12.5, 19, 19],\n",
    "        5:[35, 11, 18.5, 17]}"
   ]
  },
  {
   "cell_type": "code",
   "execution_count": 20,
   "id": "4eecb03c",
   "metadata": {},
   "outputs": [],
   "source": [
    "# Add ranges for OOP for all Clusters\n",
    "#dict = {key: values}\n",
    "#key = Cluster Number\n",
    "#values = Range of that particular Cluster\n",
    "#int_features = Marks Obtained\n",
    "int_features = [73,20,68,18,64,19,60,19,52,18,24,25,24,22,23,22,24,24,23,23,9.56]\n",
    "dict = {0:[63, 16.5, 21, 20.5],\n",
    "        1:[47.5, 13, 20.5, 19],\n",
    "        2:[56, 14.5, 21, 20],\n",
    "        3:[68.5, 17.5, 22.5, 22.5],\n",
    "        4:[45.5, 12.5, 19, 19],\n",
    "        5:[35, 11, 18.5, 17]}\n",
    "# suggest Functions compares the value of each int_feature value and give a suggestion accordingly\n",
    "def suggest(int_features, output):\n",
    "  #The cluster used here is Cluster 0.\n",
    "  # The list will be appened for each Suggestion.\n",
    "    list = []\n",
    "    for x in range(0,9,2):\n",
    "        if int_features[x] < dict[output][0]:\n",
    "           # print('this is suggestion for SE', int_features[x])\n",
    "            list.append(f'this is negative suggestion for SE {int_features[x]}')\n",
    "           # return 'this is suggestion for SE'\n",
    "\n",
    "        elif int_features[x] >= dict[output][0]:\n",
    "            #print('this is suggestion for SE2', int_features[x])\n",
    "            list.append(f'this is a positive suggestion for SE {int_features[x]}')\n",
    "           # return 'this is suggestion for SE2'\n",
    "\n",
    "    for y in range(1,10,2):\n",
    "        if int_features[y] < dict[output][1]:\n",
    "            #print('this is suggestion for IA', int_features[y])\n",
    "            list.append(f'this is negative suggestion for IA {int_features[y]}')\n",
    "           # return 'this is suggestion for IA'\n",
    "        elif int_features[y] >= dict[output][1]:\n",
    "            #print('this is suggestion for IA2', int_features[y])\n",
    "            list.append(f'this is a positive suggestion for IA {int_features[y]}')\n",
    "           # return 'this is suggestion for IA2'\n",
    "\n",
    "    for z in range(10,19,2):\n",
    "        if int_features[z] < dict[output][2]:\n",
    "            #print('this is suggestion for TW', int_features[z])\n",
    "            list.append(f'this is a negative suggestion for TW {int_features[z]}')\n",
    "           # return 'this is suggestion for TW'\n",
    "        elif int_features[z] >= dict[output][2]:\n",
    "            #print('this is suggestion for TW2', int_features[z])\n",
    "            list.append(f'this is a positive suggestion for TW2 {int_features[z]}')\n",
    "           # return 'this is suggestion for IA2'\n",
    "\n",
    "    for w in range(11,20,2):\n",
    "        if int_features[w] < dict[output][3]:\n",
    "            #print('this is suggestion for OP', int_features[w])\n",
    "            list.append(f'this is a negative suggestion for OP {int_features[w]}')\n",
    "           # return 'this is suggestion for TW'\n",
    "        elif int_features[w] >= dict[output][3]:\n",
    "            #print('this is suggestion for OP2', int_features[w])\n",
    "            list.append(f'this is a positive suggestion for OP2 {int_features[w]}')\n",
    "           # return 'this is suggestion for IA2'\n",
    "\n",
    "\n",
    "    \n",
    "    return list"
   ]
  },
  {
   "cell_type": "code",
   "execution_count": 21,
   "id": "4397fbca",
   "metadata": {},
   "outputs": [],
   "source": [
    "A = suggest(int_features, 0)"
   ]
  },
  {
   "cell_type": "code",
   "execution_count": 22,
   "id": "e2b97fb3",
   "metadata": {},
   "outputs": [
    {
     "name": "stdout",
     "output_type": "stream",
     "text": [
      "this is a positive suggestion for SE 73\n",
      "this is a positive suggestion for SE 68\n",
      "this is a positive suggestion for SE 64\n",
      "this is negative suggestion for SE 60\n",
      "this is negative suggestion for SE 52\n",
      "this is a positive suggestion for IA 20\n",
      "this is a positive suggestion for IA 18\n",
      "this is a positive suggestion for IA 19\n",
      "this is a positive suggestion for IA 19\n",
      "this is a positive suggestion for IA 18\n",
      "this is a positive suggestion for TW2 24\n",
      "this is a positive suggestion for TW2 24\n",
      "this is a positive suggestion for TW2 23\n",
      "this is a positive suggestion for TW2 24\n",
      "this is a positive suggestion for TW2 23\n",
      "this is a positive suggestion for OP2 25\n",
      "this is a positive suggestion for OP2 22\n",
      "this is a positive suggestion for OP2 22\n",
      "this is a positive suggestion for OP2 24\n",
      "this is a positive suggestion for OP2 23\n"
     ]
    }
   ],
   "source": [
    "for x in A:\n",
    "    print(x)"
   ]
  },
  {
   "cell_type": "code",
   "execution_count": null,
   "id": "176ad210",
   "metadata": {},
   "outputs": [],
   "source": []
  },
  {
   "cell_type": "code",
   "execution_count": null,
   "id": "0e8ba6e5",
   "metadata": {},
   "outputs": [],
   "source": []
  }
 ],
 "metadata": {
  "kernelspec": {
   "display_name": "Python 3",
   "language": "python",
   "name": "python3"
  },
  "language_info": {
   "codemirror_mode": {
    "name": "ipython",
    "version": 3
   },
   "file_extension": ".py",
   "mimetype": "text/x-python",
   "name": "python",
   "nbconvert_exporter": "python",
   "pygments_lexer": "ipython3",
   "version": "3.8.8"
  }
 },
 "nbformat": 4,
 "nbformat_minor": 5
}
