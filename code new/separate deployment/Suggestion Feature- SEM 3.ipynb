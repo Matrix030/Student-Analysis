{
 "cells": [
  {
   "cell_type": "markdown",
   "id": "b53a344d",
   "metadata": {},
   "source": [
    "# Suggestion Feature SEM 3"
   ]
  },
  {
   "cell_type": "code",
   "execution_count": 1,
   "id": "8a6cd536",
   "metadata": {},
   "outputs": [],
   "source": []
  },
  {
   "cell_type": "code",
   "execution_count": 2,
   "id": "4eecb03c",
   "metadata": {},
   "outputs": [],
   "source": [
    "# suugest Functions compares the value of each int_feature value and give a suggestion accordingly\n",
    "def suggest(int_features, output):\n",
    "    # Add ranges for OOP for all Clusters\n",
    "#dict = {key: values}\n",
    "#key = Cluster Number\n",
    "#values = Range of that particular Cluster\n",
    "#int_features = Marks Obtained\n",
    "    int_features = [77,19,57,18,68,20,58,18,60,18,23,23,23,22,24,24,44,46,9.54]\n",
    "    dict = {0:[60, 17, 21, 21, 44, 45], # The class here has to be switched with class 5\n",
    "            1:[43, 12, 20, 20, 41, 42],\n",
    "            2:[55, 14.6, 21, 21, 39.5, 39.5],       \n",
    "            4:[51, 13.5, 20.5, 20, 44, 45]}\n",
    "  #The cluster used here is Cluster 0.\n",
    "  # The list will be appened for each Suggestion.\n",
    "    list = []\n",
    "    for x in range(0,9,2):\n",
    "        if int_features[x] < dict[output][0]:\n",
    "           # print('this is suggestion for SE', int_features[x])\n",
    "            list.append(f'this is negative suggestion for SE {int_features[x]}')\n",
    "           # return 'this is suggestion for SE'\n",
    "\n",
    "        elif int_features[x] >= dict[output][0]:\n",
    "            #print('this is suggestion for SE2', int_features[x])\n",
    "            list.append(f'this is a positive suggestion for SE {int_features[x]}')\n",
    "           # return 'this is suggestion for SE2'\n",
    "\n",
    "    for y in range(1,10,2):\n",
    "        if int_features[y] < dict[output][1]:\n",
    "            #print('this is suggestion for IA', int_features[y])\n",
    "            list.append(f'this is negative suggestion for IA {int_features[y]}')\n",
    "           # return 'this is suggestion for IA'\n",
    "        elif int_features[y] >= dict[output][1]:\n",
    "            #print('this is suggestion for IA2', int_features[y])\n",
    "            list.append(f'this is a positive suggestion for IA {int_features[y]}')\n",
    "           # return 'this is suggestion for IA2'\n",
    "\n",
    "    for z in range(10,15,2):\n",
    "        if int_features[z] < dict[output][2]:\n",
    "            #print('this is suggestion for TW', int_features[z])\n",
    "            list.append(f'this is a negative suggestion for TW {int_features[z]}')\n",
    "           # return 'this is suggestion for TW'\n",
    "        elif int_features[z] >= dict[output][2]:\n",
    "            #print('this is suggestion for TW2', int_features[z])\n",
    "            list.append(f'this is a positive suggestion for TW2 {int_features[z]}')\n",
    "           # return 'this is suggestion for IA2'\n",
    "\n",
    "    for w in range(11,16,2):\n",
    "        if int_features[w] < dict[output][3]:\n",
    "            #print('this is suggestion for OP', int_features[w])\n",
    "            list.append(f'this is a negative suggestion for OP {int_features[w]}')\n",
    "           # return 'this is suggestion for TW'\n",
    "        elif int_features[w] >= dict[output][3]:\n",
    "            #print('this is suggestion for OP2', int_features[w])\n",
    "            list.append(f'this is a positive suggestion for OP2 {int_features[w]}')\n",
    "           # return 'this is suggestion for IA2'\n",
    "\n",
    "\n",
    "    if int_features[16] < dict[output][4]:\n",
    "        #print('this is suggestion for OOPTW', int_features[16])\n",
    "        list.append(f'this is a negative suggestion for OOPTW {int_features[16]}')  #make changes here\n",
    "        # return 'this is suggestion for TW'\n",
    "    elif int_features[16] >= dict[output][4]:\n",
    "        #print('this is suggestion for OOPTW2', int_features[16])\n",
    "        list.append(f'this is a positive suggestion for OOPTW2 {int_features[16]}') #make changes here\n",
    "        # return 'this is suggestion for IA2'\n",
    "\n",
    "    if int_features[17] < dict[output][5]:\n",
    "        #print('this is suggestion for OOPOP', int_features[17])\n",
    "        list.append(f'this is a negative suggestion for OOPOP {int_features[17]}')  #make changes here\n",
    "        # return 'this is suggestion for TW'\n",
    "    elif int_features[17] >= dict[output][5]:\n",
    "        #print('this is suggestion for OOPOP2', int_features[17])\n",
    "        list.append(f'this is a positive suggestion for OOPOP2 {int_features[17]}') # make changes here\n",
    "        # return 'this is suggestion for IA2'\n",
    "    return list"
   ]
  },
  {
   "cell_type": "code",
   "execution_count": 3,
   "id": "4397fbca",
   "metadata": {},
   "outputs": [],
   "source": [
    "A = suggest(int_features, 0)"
   ]
  },
  {
   "cell_type": "code",
   "execution_count": 4,
   "id": "e2b97fb3",
   "metadata": {},
   "outputs": [
    {
     "name": "stdout",
     "output_type": "stream",
     "text": [
      "this is a positive suggestion for SE 77\n",
      "this is negative suggestion for SE 57\n",
      "this is a positive suggestion for SE 68\n",
      "this is negative suggestion for SE 58\n",
      "this is a positive suggestion for SE 60\n",
      "this is a positive suggestion for IA 19\n",
      "this is a positive suggestion for IA 18\n",
      "this is a positive suggestion for IA 20\n",
      "this is a positive suggestion for IA 18\n",
      "this is a positive suggestion for IA 18\n",
      "this is a positive suggestion for TW2 23\n",
      "this is a positive suggestion for TW2 23\n",
      "this is a positive suggestion for TW2 24\n",
      "this is a positive suggestion for OP2 23\n",
      "this is a positive suggestion for OP2 22\n",
      "this is a positive suggestion for OP2 24\n",
      "this is a positive suggestion for OOPTW2 44\n",
      "this is a positive suggestion for OOPOP2 46\n"
     ]
    }
   ],
   "source": [
    "for x in A:\n",
    "    print(x)"
   ]
  },
  {
   "cell_type": "code",
   "execution_count": null,
   "id": "176ad210",
   "metadata": {},
   "outputs": [],
   "source": []
  }
 ],
 "metadata": {
  "kernelspec": {
   "display_name": "Python 3",
   "language": "python",
   "name": "python3"
  },
  "language_info": {
   "codemirror_mode": {
    "name": "ipython",
    "version": 3
   },
   "file_extension": ".py",
   "mimetype": "text/x-python",
   "name": "python",
   "nbconvert_exporter": "python",
   "pygments_lexer": "ipython3",
   "version": "3.8.8"
  }
 },
 "nbformat": 4,
 "nbformat_minor": 5
}
