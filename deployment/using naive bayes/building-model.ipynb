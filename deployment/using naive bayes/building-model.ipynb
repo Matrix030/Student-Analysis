{
 "cells": [
  {
   "cell_type": "code",
   "execution_count": 1,
   "id": "compound-terminal",
   "metadata": {},
   "outputs": [],
   "source": [
    "import numpy as np\n",
    "import pandas as pd\n",
    "import seaborn as sns"
   ]
  },
  {
   "cell_type": "code",
   "execution_count": 2,
   "id": "civil-montana",
   "metadata": {},
   "outputs": [],
   "source": [
    "df = pd.read_csv('G:/SEM 5/mini-project/code new/clustering/cluster.csv', header=0)"
   ]
  },
  {
   "cell_type": "code",
   "execution_count": 3,
   "id": "living-faith",
   "metadata": {},
   "outputs": [
    {
     "name": "stdout",
     "output_type": "stream",
     "text": [
      "<class 'pandas.core.frame.DataFrame'>\n",
      "RangeIndex: 327 entries, 0 to 326\n",
      "Data columns (total 41 columns):\n",
      " #   Column        Non-Null Count  Dtype  \n",
      "---  ------        --------------  -----  \n",
      " 0   AM_SE         327 non-null    int64  \n",
      " 1   AM_IA         327 non-null    int64  \n",
      " 2   DLDA_SE       327 non-null    int64  \n",
      " 3   DLDA_IA       327 non-null    int64  \n",
      " 4   DSGT_SE       327 non-null    int64  \n",
      " 5   DSGT_IA       327 non-null    int64  \n",
      " 6   ECCF_SE       327 non-null    int64  \n",
      " 7   ECCF_IA       327 non-null    int64  \n",
      " 8   DS_SE         327 non-null    int64  \n",
      " 9   DS_IA         327 non-null    int64  \n",
      " 10  DigitalSL_TW  327 non-null    int64  \n",
      " 11  DSL_OP        327 non-null    int64  \n",
      " 12  BE_TW         327 non-null    int64  \n",
      " 13  BE_OP         327 non-null    int64  \n",
      " 14  DataSL_TW     327 non-null    int64  \n",
      " 15  DSL_OP.1      327 non-null    int64  \n",
      " 16  OOPM_TW       327 non-null    int64  \n",
      " 17  OOPM_OP       327 non-null    int64  \n",
      " 18  AM4_SE        327 non-null    int64  \n",
      " 19  AM4_IA        327 non-null    int64  \n",
      " 20  AOA_SE        327 non-null    int64  \n",
      " 21  AOA_IA        327 non-null    int64  \n",
      " 22  COA_SE        327 non-null    int64  \n",
      " 23  COA_IA        327 non-null    int64  \n",
      " 24  CG_SE         327 non-null    int64  \n",
      " 25  CG_IA         327 non-null    int64  \n",
      " 26  OS_SE         327 non-null    int64  \n",
      " 27  OS_IA         327 non-null    int64  \n",
      " 28  AOA_TW        327 non-null    int64  \n",
      " 29  AOA_OP        327 non-null    int64  \n",
      " 30  CG_TW         327 non-null    int64  \n",
      " 31  CG_OP         327 non-null    int64  \n",
      " 32  PAL_TW        327 non-null    int64  \n",
      " 33  PAL_OP        327 non-null    int64  \n",
      " 34  OS_TW         327 non-null    int64  \n",
      " 35  OS_OP         327 non-null    int64  \n",
      " 36  OPST_TW       327 non-null    int64  \n",
      " 37  OPST_OP       327 non-null    int64  \n",
      " 38  GPA           327 non-null    float64\n",
      " 39  GPA_SEM_4     327 non-null    float64\n",
      " 40  cluster       327 non-null    int64  \n",
      "dtypes: float64(2), int64(39)\n",
      "memory usage: 104.9 KB\n"
     ]
    }
   ],
   "source": [
    "df.info()"
   ]
  },
  {
   "cell_type": "code",
   "execution_count": 4,
   "id": "flexible-methodology",
   "metadata": {},
   "outputs": [],
   "source": [
    "from sklearn.model_selection import train_test_split"
   ]
  },
  {
   "cell_type": "code",
   "execution_count": 5,
   "id": "behavioral-bidder",
   "metadata": {},
   "outputs": [],
   "source": [
    "y = df['cluster'].values\n",
    "y\n",
    "X = df.values\n",
    "X = np.delete(X,40,axis=1)"
   ]
  },
  {
   "cell_type": "code",
   "execution_count": 6,
   "id": "excited-viking",
   "metadata": {},
   "outputs": [],
   "source": [
    "X_train, X_test, y_train, y_test = train_test_split(X,y,test_size=0.33,random_state=0)"
   ]
  },
  {
   "cell_type": "code",
   "execution_count": 18,
   "id": "great-valley",
   "metadata": {},
   "outputs": [],
   "source": [
    "X_test\n",
    "X_test1 = pd.DataFrame(X_test)\n",
    "\n",
    "abc = X_test1\n",
    "abc.to_csv(\"X_test.csv\")"
   ]
  },
  {
   "cell_type": "code",
   "execution_count": 8,
   "id": "rural-malta",
   "metadata": {},
   "outputs": [
    {
     "data": {
      "text/html": [
       "<div>\n",
       "<style scoped>\n",
       "    .dataframe tbody tr th:only-of-type {\n",
       "        vertical-align: middle;\n",
       "    }\n",
       "\n",
       "    .dataframe tbody tr th {\n",
       "        vertical-align: top;\n",
       "    }\n",
       "\n",
       "    .dataframe thead th {\n",
       "        text-align: right;\n",
       "    }\n",
       "</style>\n",
       "<table border=\"1\" class=\"dataframe\">\n",
       "  <thead>\n",
       "    <tr style=\"text-align: right;\">\n",
       "      <th></th>\n",
       "      <th>0</th>\n",
       "      <th>1</th>\n",
       "      <th>2</th>\n",
       "      <th>3</th>\n",
       "      <th>4</th>\n",
       "      <th>5</th>\n",
       "      <th>6</th>\n",
       "      <th>7</th>\n",
       "      <th>8</th>\n",
       "      <th>9</th>\n",
       "      <th>...</th>\n",
       "      <th>30</th>\n",
       "      <th>31</th>\n",
       "      <th>32</th>\n",
       "      <th>33</th>\n",
       "      <th>34</th>\n",
       "      <th>35</th>\n",
       "      <th>36</th>\n",
       "      <th>37</th>\n",
       "      <th>38</th>\n",
       "      <th>39</th>\n",
       "    </tr>\n",
       "  </thead>\n",
       "  <tbody>\n",
       "    <tr>\n",
       "      <th>0</th>\n",
       "      <td>32.0</td>\n",
       "      <td>11.0</td>\n",
       "      <td>64.0</td>\n",
       "      <td>11.0</td>\n",
       "      <td>57.0</td>\n",
       "      <td>19.0</td>\n",
       "      <td>32.0</td>\n",
       "      <td>12.0</td>\n",
       "      <td>46.0</td>\n",
       "      <td>19.0</td>\n",
       "      <td>...</td>\n",
       "      <td>20.0</td>\n",
       "      <td>20.0</td>\n",
       "      <td>22.0</td>\n",
       "      <td>22.0</td>\n",
       "      <td>21.0</td>\n",
       "      <td>20.0</td>\n",
       "      <td>15.0</td>\n",
       "      <td>21.0</td>\n",
       "      <td>7.15</td>\n",
       "      <td>7.22</td>\n",
       "    </tr>\n",
       "    <tr>\n",
       "      <th>1</th>\n",
       "      <td>44.0</td>\n",
       "      <td>17.0</td>\n",
       "      <td>57.0</td>\n",
       "      <td>14.0</td>\n",
       "      <td>69.0</td>\n",
       "      <td>20.0</td>\n",
       "      <td>61.0</td>\n",
       "      <td>18.0</td>\n",
       "      <td>48.0</td>\n",
       "      <td>18.0</td>\n",
       "      <td>...</td>\n",
       "      <td>21.0</td>\n",
       "      <td>20.0</td>\n",
       "      <td>18.0</td>\n",
       "      <td>20.0</td>\n",
       "      <td>22.0</td>\n",
       "      <td>21.0</td>\n",
       "      <td>15.0</td>\n",
       "      <td>20.0</td>\n",
       "      <td>9.08</td>\n",
       "      <td>9.22</td>\n",
       "    </tr>\n",
       "    <tr>\n",
       "      <th>2</th>\n",
       "      <td>68.0</td>\n",
       "      <td>18.0</td>\n",
       "      <td>73.0</td>\n",
       "      <td>16.0</td>\n",
       "      <td>51.0</td>\n",
       "      <td>20.0</td>\n",
       "      <td>68.0</td>\n",
       "      <td>17.0</td>\n",
       "      <td>62.0</td>\n",
       "      <td>17.0</td>\n",
       "      <td>...</td>\n",
       "      <td>20.0</td>\n",
       "      <td>19.0</td>\n",
       "      <td>21.0</td>\n",
       "      <td>20.0</td>\n",
       "      <td>24.0</td>\n",
       "      <td>24.0</td>\n",
       "      <td>19.0</td>\n",
       "      <td>21.0</td>\n",
       "      <td>9.54</td>\n",
       "      <td>9.96</td>\n",
       "    </tr>\n",
       "    <tr>\n",
       "      <th>3</th>\n",
       "      <td>73.0</td>\n",
       "      <td>20.0</td>\n",
       "      <td>67.0</td>\n",
       "      <td>11.0</td>\n",
       "      <td>72.0</td>\n",
       "      <td>15.0</td>\n",
       "      <td>69.0</td>\n",
       "      <td>15.0</td>\n",
       "      <td>58.0</td>\n",
       "      <td>16.0</td>\n",
       "      <td>...</td>\n",
       "      <td>21.0</td>\n",
       "      <td>19.0</td>\n",
       "      <td>23.0</td>\n",
       "      <td>23.0</td>\n",
       "      <td>24.0</td>\n",
       "      <td>22.0</td>\n",
       "      <td>21.0</td>\n",
       "      <td>21.0</td>\n",
       "      <td>9.54</td>\n",
       "      <td>9.85</td>\n",
       "    </tr>\n",
       "    <tr>\n",
       "      <th>4</th>\n",
       "      <td>58.0</td>\n",
       "      <td>16.0</td>\n",
       "      <td>66.0</td>\n",
       "      <td>15.0</td>\n",
       "      <td>72.0</td>\n",
       "      <td>16.0</td>\n",
       "      <td>53.0</td>\n",
       "      <td>15.0</td>\n",
       "      <td>49.0</td>\n",
       "      <td>18.0</td>\n",
       "      <td>...</td>\n",
       "      <td>22.0</td>\n",
       "      <td>23.0</td>\n",
       "      <td>23.0</td>\n",
       "      <td>22.0</td>\n",
       "      <td>24.0</td>\n",
       "      <td>23.0</td>\n",
       "      <td>19.0</td>\n",
       "      <td>21.0</td>\n",
       "      <td>8.69</td>\n",
       "      <td>10.00</td>\n",
       "    </tr>\n",
       "  </tbody>\n",
       "</table>\n",
       "<p>5 rows × 40 columns</p>\n",
       "</div>"
      ],
      "text/plain": [
       "     0     1     2     3     4     5     6     7     8     9   ...    30  \\\n",
       "0  32.0  11.0  64.0  11.0  57.0  19.0  32.0  12.0  46.0  19.0  ...  20.0   \n",
       "1  44.0  17.0  57.0  14.0  69.0  20.0  61.0  18.0  48.0  18.0  ...  21.0   \n",
       "2  68.0  18.0  73.0  16.0  51.0  20.0  68.0  17.0  62.0  17.0  ...  20.0   \n",
       "3  73.0  20.0  67.0  11.0  72.0  15.0  69.0  15.0  58.0  16.0  ...  21.0   \n",
       "4  58.0  16.0  66.0  15.0  72.0  16.0  53.0  15.0  49.0  18.0  ...  22.0   \n",
       "\n",
       "     31    32    33    34    35    36    37    38     39  \n",
       "0  20.0  22.0  22.0  21.0  20.0  15.0  21.0  7.15   7.22  \n",
       "1  20.0  18.0  20.0  22.0  21.0  15.0  20.0  9.08   9.22  \n",
       "2  19.0  21.0  20.0  24.0  24.0  19.0  21.0  9.54   9.96  \n",
       "3  19.0  23.0  23.0  24.0  22.0  21.0  21.0  9.54   9.85  \n",
       "4  23.0  23.0  22.0  24.0  23.0  19.0  21.0  8.69  10.00  \n",
       "\n",
       "[5 rows x 40 columns]"
      ]
     },
     "execution_count": 8,
     "metadata": {},
     "output_type": "execute_result"
    }
   ],
   "source": [
    "X_test1.head()"
   ]
  },
  {
   "cell_type": "code",
   "execution_count": 9,
   "id": "institutional-lying",
   "metadata": {},
   "outputs": [
    {
     "data": {
      "text/plain": [
       "GaussianNB()"
      ]
     },
     "execution_count": 9,
     "metadata": {},
     "output_type": "execute_result"
    }
   ],
   "source": [
    "from sklearn.naive_bayes import GaussianNB  \n",
    "classifier = GaussianNB()  \n",
    "classifier.fit(X_train, y_train)  "
   ]
  },
  {
   "cell_type": "code",
   "execution_count": 10,
   "id": "spanish-spencer",
   "metadata": {},
   "outputs": [],
   "source": [
    "y_pred = classifier.predict(X_test)  "
   ]
  },
  {
   "cell_type": "code",
   "execution_count": 11,
   "id": "multiple-forth",
   "metadata": {},
   "outputs": [],
   "source": [
    "from sklearn.metrics import confusion_matrix  \n",
    "cm= confusion_matrix(y_test, y_pred)"
   ]
  },
  {
   "cell_type": "code",
   "execution_count": 12,
   "id": "czech-yacht",
   "metadata": {},
   "outputs": [
    {
     "data": {
      "text/plain": [
       "array([[22,  0,  3,  1,  0,  0],\n",
       "       [ 0, 10,  0,  0,  2,  3],\n",
       "       [ 3,  0, 14,  0,  0,  1],\n",
       "       [ 1,  0,  0, 14,  0,  0],\n",
       "       [ 0,  3,  0,  0,  9,  0],\n",
       "       [ 2,  3,  0,  0,  0, 17]], dtype=int64)"
      ]
     },
     "execution_count": 12,
     "metadata": {},
     "output_type": "execute_result"
    }
   ],
   "source": [
    "cm"
   ]
  },
  {
   "cell_type": "code",
   "execution_count": 13,
   "id": "stylish-imagination",
   "metadata": {},
   "outputs": [
    {
     "data": {
      "text/plain": [
       "0.7962962962962963"
      ]
     },
     "execution_count": 13,
     "metadata": {},
     "output_type": "execute_result"
    }
   ],
   "source": [
    "classifier.score(X_test, y_test)"
   ]
  },
  {
   "cell_type": "code",
   "execution_count": 14,
   "id": "vocal-knock",
   "metadata": {},
   "outputs": [],
   "source": [
    "import pickle"
   ]
  },
  {
   "cell_type": "code",
   "execution_count": 15,
   "id": "conventional-breathing",
   "metadata": {},
   "outputs": [],
   "source": [
    "pickle.dump(classifier, open('NBmodel.pkl','wb'))"
   ]
  },
  {
   "cell_type": "code",
   "execution_count": 16,
   "id": "strategic-gardening",
   "metadata": {},
   "outputs": [],
   "source": [
    "NBmodel = pickle.load(open('NBmodel.pkl','rb'))"
   ]
  },
  {
   "cell_type": "code",
   "execution_count": null,
   "id": "thorough-bleeding",
   "metadata": {},
   "outputs": [],
   "source": []
  }
 ],
 "metadata": {
  "kernelspec": {
   "display_name": "Python 3",
   "language": "python",
   "name": "python3"
  },
  "language_info": {
   "codemirror_mode": {
    "name": "ipython",
    "version": 3
   },
   "file_extension": ".py",
   "mimetype": "text/x-python",
   "name": "python",
   "nbconvert_exporter": "python",
   "pygments_lexer": "ipython3",
   "version": "3.9.1"
  }
 },
 "nbformat": 4,
 "nbformat_minor": 5
}
