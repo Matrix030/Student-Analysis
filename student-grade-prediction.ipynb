{
 "cells": [
  {
   "cell_type": "markdown",
   "metadata": {
    "id": "view-in-github"
   },
   "source": [
    "<a href=\"https://colab.research.google.com/github/Suchitra-V31/Machine-learning-projects/blob/main/Student_Grades_Prediction.ipynb\" target=\"_parent\"><img src=\"https://colab.research.google.com/assets/colab-badge.svg\" alt=\"Open In Colab\"/></a>"
   ]
  },
  {
   "cell_type": "markdown",
   "metadata": {
    "id": "TdUmFgbIWNPL"
   },
   "source": [
    "**Student Grades Prediction**\n"
   ]
  },
  {
   "cell_type": "code",
   "execution_count": 1,
   "metadata": {
    "execution": {
     "iopub.execute_input": "2021-09-03T06:07:10.555739Z",
     "iopub.status.busy": "2021-09-03T06:07:10.555337Z",
     "iopub.status.idle": "2021-09-03T06:07:11.543367Z",
     "shell.execute_reply": "2021-09-03T06:07:11.54235Z",
     "shell.execute_reply.started": "2021-09-03T06:07:10.555656Z"
    },
    "id": "11S1nEpfVv94"
   },
   "outputs": [],
   "source": [
    "#import the libraries\n",
    "import pandas as pd\n",
    "import numpy as np\n",
    "import matplotlib.pyplot as plt\n",
    "import seaborn as sns"
   ]
  },
  {
   "cell_type": "code",
   "execution_count": 2,
   "metadata": {
    "execution": {
     "iopub.execute_input": "2021-09-03T06:07:11.547327Z",
     "iopub.status.busy": "2021-09-03T06:07:11.547022Z",
     "iopub.status.idle": "2021-09-03T06:07:11.572284Z",
     "shell.execute_reply": "2021-09-03T06:07:11.571219Z",
     "shell.execute_reply.started": "2021-09-03T06:07:11.5473Z"
    },
    "id": "WrnT0j9UWa4Y"
   },
   "outputs": [],
   "source": [
    "data=pd.read_csv('G:/SEM 5/mini-project/dataset/student-por1.csv')"
   ]
  },
  {
   "cell_type": "code",
   "execution_count": 3,
   "metadata": {
    "execution": {
     "iopub.execute_input": "2021-09-03T06:07:11.574224Z",
     "iopub.status.busy": "2021-09-03T06:07:11.57386Z",
     "iopub.status.idle": "2021-09-03T06:07:11.615465Z",
     "shell.execute_reply": "2021-09-03T06:07:11.614389Z",
     "shell.execute_reply.started": "2021-09-03T06:07:11.574193Z"
    },
    "id": "nG5jRoQTWhBb",
    "outputId": "40b84156-7d3a-48e9-cb48-923427300c0c"
   },
   "outputs": [
    {
     "data": {
      "text/html": [
       "<div>\n",
       "<style scoped>\n",
       "    .dataframe tbody tr th:only-of-type {\n",
       "        vertical-align: middle;\n",
       "    }\n",
       "\n",
       "    .dataframe tbody tr th {\n",
       "        vertical-align: top;\n",
       "    }\n",
       "\n",
       "    .dataframe thead th {\n",
       "        text-align: right;\n",
       "    }\n",
       "</style>\n",
       "<table border=\"1\" class=\"dataframe\">\n",
       "  <thead>\n",
       "    <tr style=\"text-align: right;\">\n",
       "      <th></th>\n",
       "      <th>school</th>\n",
       "      <th>sex</th>\n",
       "      <th>age</th>\n",
       "      <th>address</th>\n",
       "      <th>famsize</th>\n",
       "      <th>Pstatus</th>\n",
       "      <th>Medu</th>\n",
       "      <th>Fedu</th>\n",
       "      <th>Mjob</th>\n",
       "      <th>Fjob</th>\n",
       "      <th>...</th>\n",
       "      <th>famrel</th>\n",
       "      <th>freetime</th>\n",
       "      <th>goout</th>\n",
       "      <th>Dalc</th>\n",
       "      <th>Walc</th>\n",
       "      <th>health</th>\n",
       "      <th>absences</th>\n",
       "      <th>G1</th>\n",
       "      <th>G2</th>\n",
       "      <th>G3</th>\n",
       "    </tr>\n",
       "  </thead>\n",
       "  <tbody>\n",
       "    <tr>\n",
       "      <th>0</th>\n",
       "      <td>GP</td>\n",
       "      <td>F</td>\n",
       "      <td>18</td>\n",
       "      <td>U</td>\n",
       "      <td>GT3</td>\n",
       "      <td>A</td>\n",
       "      <td>4</td>\n",
       "      <td>4</td>\n",
       "      <td>at_home</td>\n",
       "      <td>teacher</td>\n",
       "      <td>...</td>\n",
       "      <td>4</td>\n",
       "      <td>3</td>\n",
       "      <td>4</td>\n",
       "      <td>1</td>\n",
       "      <td>1</td>\n",
       "      <td>3</td>\n",
       "      <td>4</td>\n",
       "      <td>0</td>\n",
       "      <td>11</td>\n",
       "      <td>11</td>\n",
       "    </tr>\n",
       "    <tr>\n",
       "      <th>1</th>\n",
       "      <td>GP</td>\n",
       "      <td>F</td>\n",
       "      <td>17</td>\n",
       "      <td>U</td>\n",
       "      <td>GT3</td>\n",
       "      <td>T</td>\n",
       "      <td>1</td>\n",
       "      <td>1</td>\n",
       "      <td>at_home</td>\n",
       "      <td>other</td>\n",
       "      <td>...</td>\n",
       "      <td>5</td>\n",
       "      <td>3</td>\n",
       "      <td>3</td>\n",
       "      <td>1</td>\n",
       "      <td>1</td>\n",
       "      <td>3</td>\n",
       "      <td>2</td>\n",
       "      <td>9</td>\n",
       "      <td>11</td>\n",
       "      <td>11</td>\n",
       "    </tr>\n",
       "    <tr>\n",
       "      <th>2</th>\n",
       "      <td>GP</td>\n",
       "      <td>F</td>\n",
       "      <td>15</td>\n",
       "      <td>U</td>\n",
       "      <td>LE3</td>\n",
       "      <td>T</td>\n",
       "      <td>1</td>\n",
       "      <td>1</td>\n",
       "      <td>at_home</td>\n",
       "      <td>other</td>\n",
       "      <td>...</td>\n",
       "      <td>4</td>\n",
       "      <td>3</td>\n",
       "      <td>2</td>\n",
       "      <td>2</td>\n",
       "      <td>3</td>\n",
       "      <td>3</td>\n",
       "      <td>6</td>\n",
       "      <td>12</td>\n",
       "      <td>13</td>\n",
       "      <td>12</td>\n",
       "    </tr>\n",
       "    <tr>\n",
       "      <th>3</th>\n",
       "      <td>GP</td>\n",
       "      <td>F</td>\n",
       "      <td>15</td>\n",
       "      <td>U</td>\n",
       "      <td>GT3</td>\n",
       "      <td>T</td>\n",
       "      <td>4</td>\n",
       "      <td>2</td>\n",
       "      <td>health</td>\n",
       "      <td>services</td>\n",
       "      <td>...</td>\n",
       "      <td>3</td>\n",
       "      <td>2</td>\n",
       "      <td>2</td>\n",
       "      <td>1</td>\n",
       "      <td>1</td>\n",
       "      <td>5</td>\n",
       "      <td>0</td>\n",
       "      <td>14</td>\n",
       "      <td>14</td>\n",
       "      <td>14</td>\n",
       "    </tr>\n",
       "    <tr>\n",
       "      <th>4</th>\n",
       "      <td>GP</td>\n",
       "      <td>F</td>\n",
       "      <td>16</td>\n",
       "      <td>U</td>\n",
       "      <td>GT3</td>\n",
       "      <td>T</td>\n",
       "      <td>3</td>\n",
       "      <td>3</td>\n",
       "      <td>other</td>\n",
       "      <td>other</td>\n",
       "      <td>...</td>\n",
       "      <td>4</td>\n",
       "      <td>3</td>\n",
       "      <td>2</td>\n",
       "      <td>1</td>\n",
       "      <td>2</td>\n",
       "      <td>5</td>\n",
       "      <td>0</td>\n",
       "      <td>11</td>\n",
       "      <td>13</td>\n",
       "      <td>13</td>\n",
       "    </tr>\n",
       "  </tbody>\n",
       "</table>\n",
       "<p>5 rows × 33 columns</p>\n",
       "</div>"
      ],
      "text/plain": [
       "  school sex  age address famsize Pstatus  Medu  Fedu     Mjob      Fjob  ...  \\\n",
       "0     GP   F   18       U     GT3       A     4     4  at_home   teacher  ...   \n",
       "1     GP   F   17       U     GT3       T     1     1  at_home     other  ...   \n",
       "2     GP   F   15       U     LE3       T     1     1  at_home     other  ...   \n",
       "3     GP   F   15       U     GT3       T     4     2   health  services  ...   \n",
       "4     GP   F   16       U     GT3       T     3     3    other     other  ...   \n",
       "\n",
       "  famrel freetime  goout  Dalc  Walc health absences  G1  G2  G3  \n",
       "0      4        3      4     1     1      3        4   0  11  11  \n",
       "1      5        3      3     1     1      3        2   9  11  11  \n",
       "2      4        3      2     2     3      3        6  12  13  12  \n",
       "3      3        2      2     1     1      5        0  14  14  14  \n",
       "4      4        3      2     1     2      5        0  11  13  13  \n",
       "\n",
       "[5 rows x 33 columns]"
      ]
     },
     "execution_count": 3,
     "metadata": {},
     "output_type": "execute_result"
    }
   ],
   "source": [
    "data.head()"
   ]
  },
  {
   "cell_type": "code",
   "execution_count": 4,
   "metadata": {
    "execution": {
     "iopub.execute_input": "2021-09-03T06:07:11.617306Z",
     "iopub.status.busy": "2021-09-03T06:07:11.616955Z",
     "iopub.status.idle": "2021-09-03T06:07:11.625516Z",
     "shell.execute_reply": "2021-09-03T06:07:11.624549Z",
     "shell.execute_reply.started": "2021-09-03T06:07:11.617275Z"
    },
    "id": "tNGB7F6BWkN6",
    "outputId": "03669608-9622-422f-e3d4-4daa60438099"
   },
   "outputs": [
    {
     "data": {
      "text/plain": [
       "(649, 33)"
      ]
     },
     "execution_count": 4,
     "metadata": {},
     "output_type": "execute_result"
    }
   ],
   "source": [
    "data.shape"
   ]
  },
  {
   "cell_type": "code",
   "execution_count": 5,
   "metadata": {
    "execution": {
     "iopub.execute_input": "2021-09-03T06:07:11.626952Z",
     "iopub.status.busy": "2021-09-03T06:07:11.626669Z",
     "iopub.status.idle": "2021-09-03T06:07:11.65513Z",
     "shell.execute_reply": "2021-09-03T06:07:11.653955Z",
     "shell.execute_reply.started": "2021-09-03T06:07:11.626926Z"
    },
    "id": "G3DeoxedXYVM",
    "outputId": "217b3312-2ec3-4639-a30a-e411b55e10c2"
   },
   "outputs": [
    {
     "name": "stdout",
     "output_type": "stream",
     "text": [
      "<class 'pandas.core.frame.DataFrame'>\n",
      "RangeIndex: 649 entries, 0 to 648\n",
      "Data columns (total 33 columns):\n",
      " #   Column      Non-Null Count  Dtype \n",
      "---  ------      --------------  ----- \n",
      " 0   school      649 non-null    object\n",
      " 1   sex         649 non-null    object\n",
      " 2   age         649 non-null    int64 \n",
      " 3   address     649 non-null    object\n",
      " 4   famsize     649 non-null    object\n",
      " 5   Pstatus     649 non-null    object\n",
      " 6   Medu        649 non-null    int64 \n",
      " 7   Fedu        649 non-null    int64 \n",
      " 8   Mjob        649 non-null    object\n",
      " 9   Fjob        649 non-null    object\n",
      " 10  reason      649 non-null    object\n",
      " 11  guardian    649 non-null    object\n",
      " 12  traveltime  649 non-null    int64 \n",
      " 13  studytime   649 non-null    int64 \n",
      " 14  failures    649 non-null    int64 \n",
      " 15  schoolsup   649 non-null    object\n",
      " 16  famsup      649 non-null    object\n",
      " 17  paid        649 non-null    object\n",
      " 18  activities  649 non-null    object\n",
      " 19  nursery     649 non-null    object\n",
      " 20  higher      649 non-null    object\n",
      " 21  internet    649 non-null    object\n",
      " 22  romantic    649 non-null    object\n",
      " 23  famrel      649 non-null    int64 \n",
      " 24  freetime    649 non-null    int64 \n",
      " 25  goout       649 non-null    int64 \n",
      " 26  Dalc        649 non-null    int64 \n",
      " 27  Walc        649 non-null    int64 \n",
      " 28  health      649 non-null    int64 \n",
      " 29  absences    649 non-null    int64 \n",
      " 30  G1          649 non-null    int64 \n",
      " 31  G2          649 non-null    int64 \n",
      " 32  G3          649 non-null    int64 \n",
      "dtypes: int64(16), object(17)\n",
      "memory usage: 167.4+ KB\n"
     ]
    }
   ],
   "source": [
    "data.info()"
   ]
  },
  {
   "cell_type": "code",
   "execution_count": 6,
   "metadata": {
    "execution": {
     "iopub.execute_input": "2021-09-03T06:07:11.657219Z",
     "iopub.status.busy": "2021-09-03T06:07:11.656737Z",
     "iopub.status.idle": "2021-09-03T06:07:11.718306Z",
     "shell.execute_reply": "2021-09-03T06:07:11.717208Z",
     "shell.execute_reply.started": "2021-09-03T06:07:11.657174Z"
    },
    "id": "v2vYhDrcXifE",
    "outputId": "6e05eab7-5bdb-4df9-9eaf-093402694020"
   },
   "outputs": [
    {
     "data": {
      "text/html": [
       "<div>\n",
       "<style scoped>\n",
       "    .dataframe tbody tr th:only-of-type {\n",
       "        vertical-align: middle;\n",
       "    }\n",
       "\n",
       "    .dataframe tbody tr th {\n",
       "        vertical-align: top;\n",
       "    }\n",
       "\n",
       "    .dataframe thead th {\n",
       "        text-align: right;\n",
       "    }\n",
       "</style>\n",
       "<table border=\"1\" class=\"dataframe\">\n",
       "  <thead>\n",
       "    <tr style=\"text-align: right;\">\n",
       "      <th></th>\n",
       "      <th>age</th>\n",
       "      <th>Medu</th>\n",
       "      <th>Fedu</th>\n",
       "      <th>traveltime</th>\n",
       "      <th>studytime</th>\n",
       "      <th>failures</th>\n",
       "      <th>famrel</th>\n",
       "      <th>freetime</th>\n",
       "      <th>goout</th>\n",
       "      <th>Dalc</th>\n",
       "      <th>Walc</th>\n",
       "      <th>health</th>\n",
       "      <th>absences</th>\n",
       "      <th>G1</th>\n",
       "      <th>G2</th>\n",
       "      <th>G3</th>\n",
       "    </tr>\n",
       "  </thead>\n",
       "  <tbody>\n",
       "    <tr>\n",
       "      <th>count</th>\n",
       "      <td>649.000000</td>\n",
       "      <td>649.000000</td>\n",
       "      <td>649.000000</td>\n",
       "      <td>649.000000</td>\n",
       "      <td>649.000000</td>\n",
       "      <td>649.000000</td>\n",
       "      <td>649.000000</td>\n",
       "      <td>649.000000</td>\n",
       "      <td>649.000000</td>\n",
       "      <td>649.000000</td>\n",
       "      <td>649.000000</td>\n",
       "      <td>649.000000</td>\n",
       "      <td>649.000000</td>\n",
       "      <td>649.000000</td>\n",
       "      <td>649.000000</td>\n",
       "      <td>649.000000</td>\n",
       "    </tr>\n",
       "    <tr>\n",
       "      <th>mean</th>\n",
       "      <td>16.744222</td>\n",
       "      <td>2.514638</td>\n",
       "      <td>2.306626</td>\n",
       "      <td>1.568567</td>\n",
       "      <td>1.930663</td>\n",
       "      <td>0.221880</td>\n",
       "      <td>3.930663</td>\n",
       "      <td>3.180277</td>\n",
       "      <td>3.184900</td>\n",
       "      <td>1.502311</td>\n",
       "      <td>2.280431</td>\n",
       "      <td>3.536210</td>\n",
       "      <td>3.659476</td>\n",
       "      <td>11.399076</td>\n",
       "      <td>11.570108</td>\n",
       "      <td>11.906009</td>\n",
       "    </tr>\n",
       "    <tr>\n",
       "      <th>std</th>\n",
       "      <td>1.218138</td>\n",
       "      <td>1.134552</td>\n",
       "      <td>1.099931</td>\n",
       "      <td>0.748660</td>\n",
       "      <td>0.829510</td>\n",
       "      <td>0.593235</td>\n",
       "      <td>0.955717</td>\n",
       "      <td>1.051093</td>\n",
       "      <td>1.175766</td>\n",
       "      <td>0.924834</td>\n",
       "      <td>1.284380</td>\n",
       "      <td>1.446259</td>\n",
       "      <td>4.640759</td>\n",
       "      <td>2.745265</td>\n",
       "      <td>2.913639</td>\n",
       "      <td>3.230656</td>\n",
       "    </tr>\n",
       "    <tr>\n",
       "      <th>min</th>\n",
       "      <td>15.000000</td>\n",
       "      <td>0.000000</td>\n",
       "      <td>0.000000</td>\n",
       "      <td>1.000000</td>\n",
       "      <td>1.000000</td>\n",
       "      <td>0.000000</td>\n",
       "      <td>1.000000</td>\n",
       "      <td>1.000000</td>\n",
       "      <td>1.000000</td>\n",
       "      <td>1.000000</td>\n",
       "      <td>1.000000</td>\n",
       "      <td>1.000000</td>\n",
       "      <td>0.000000</td>\n",
       "      <td>0.000000</td>\n",
       "      <td>0.000000</td>\n",
       "      <td>0.000000</td>\n",
       "    </tr>\n",
       "    <tr>\n",
       "      <th>25%</th>\n",
       "      <td>16.000000</td>\n",
       "      <td>2.000000</td>\n",
       "      <td>1.000000</td>\n",
       "      <td>1.000000</td>\n",
       "      <td>1.000000</td>\n",
       "      <td>0.000000</td>\n",
       "      <td>4.000000</td>\n",
       "      <td>3.000000</td>\n",
       "      <td>2.000000</td>\n",
       "      <td>1.000000</td>\n",
       "      <td>1.000000</td>\n",
       "      <td>2.000000</td>\n",
       "      <td>0.000000</td>\n",
       "      <td>10.000000</td>\n",
       "      <td>10.000000</td>\n",
       "      <td>10.000000</td>\n",
       "    </tr>\n",
       "    <tr>\n",
       "      <th>50%</th>\n",
       "      <td>17.000000</td>\n",
       "      <td>2.000000</td>\n",
       "      <td>2.000000</td>\n",
       "      <td>1.000000</td>\n",
       "      <td>2.000000</td>\n",
       "      <td>0.000000</td>\n",
       "      <td>4.000000</td>\n",
       "      <td>3.000000</td>\n",
       "      <td>3.000000</td>\n",
       "      <td>1.000000</td>\n",
       "      <td>2.000000</td>\n",
       "      <td>4.000000</td>\n",
       "      <td>2.000000</td>\n",
       "      <td>11.000000</td>\n",
       "      <td>11.000000</td>\n",
       "      <td>12.000000</td>\n",
       "    </tr>\n",
       "    <tr>\n",
       "      <th>75%</th>\n",
       "      <td>18.000000</td>\n",
       "      <td>4.000000</td>\n",
       "      <td>3.000000</td>\n",
       "      <td>2.000000</td>\n",
       "      <td>2.000000</td>\n",
       "      <td>0.000000</td>\n",
       "      <td>5.000000</td>\n",
       "      <td>4.000000</td>\n",
       "      <td>4.000000</td>\n",
       "      <td>2.000000</td>\n",
       "      <td>3.000000</td>\n",
       "      <td>5.000000</td>\n",
       "      <td>6.000000</td>\n",
       "      <td>13.000000</td>\n",
       "      <td>13.000000</td>\n",
       "      <td>14.000000</td>\n",
       "    </tr>\n",
       "    <tr>\n",
       "      <th>max</th>\n",
       "      <td>22.000000</td>\n",
       "      <td>4.000000</td>\n",
       "      <td>4.000000</td>\n",
       "      <td>4.000000</td>\n",
       "      <td>4.000000</td>\n",
       "      <td>3.000000</td>\n",
       "      <td>5.000000</td>\n",
       "      <td>5.000000</td>\n",
       "      <td>5.000000</td>\n",
       "      <td>5.000000</td>\n",
       "      <td>5.000000</td>\n",
       "      <td>5.000000</td>\n",
       "      <td>32.000000</td>\n",
       "      <td>19.000000</td>\n",
       "      <td>19.000000</td>\n",
       "      <td>19.000000</td>\n",
       "    </tr>\n",
       "  </tbody>\n",
       "</table>\n",
       "</div>"
      ],
      "text/plain": [
       "              age        Medu        Fedu  traveltime   studytime    failures  \\\n",
       "count  649.000000  649.000000  649.000000  649.000000  649.000000  649.000000   \n",
       "mean    16.744222    2.514638    2.306626    1.568567    1.930663    0.221880   \n",
       "std      1.218138    1.134552    1.099931    0.748660    0.829510    0.593235   \n",
       "min     15.000000    0.000000    0.000000    1.000000    1.000000    0.000000   \n",
       "25%     16.000000    2.000000    1.000000    1.000000    1.000000    0.000000   \n",
       "50%     17.000000    2.000000    2.000000    1.000000    2.000000    0.000000   \n",
       "75%     18.000000    4.000000    3.000000    2.000000    2.000000    0.000000   \n",
       "max     22.000000    4.000000    4.000000    4.000000    4.000000    3.000000   \n",
       "\n",
       "           famrel    freetime       goout        Dalc        Walc      health  \\\n",
       "count  649.000000  649.000000  649.000000  649.000000  649.000000  649.000000   \n",
       "mean     3.930663    3.180277    3.184900    1.502311    2.280431    3.536210   \n",
       "std      0.955717    1.051093    1.175766    0.924834    1.284380    1.446259   \n",
       "min      1.000000    1.000000    1.000000    1.000000    1.000000    1.000000   \n",
       "25%      4.000000    3.000000    2.000000    1.000000    1.000000    2.000000   \n",
       "50%      4.000000    3.000000    3.000000    1.000000    2.000000    4.000000   \n",
       "75%      5.000000    4.000000    4.000000    2.000000    3.000000    5.000000   \n",
       "max      5.000000    5.000000    5.000000    5.000000    5.000000    5.000000   \n",
       "\n",
       "         absences          G1          G2          G3  \n",
       "count  649.000000  649.000000  649.000000  649.000000  \n",
       "mean     3.659476   11.399076   11.570108   11.906009  \n",
       "std      4.640759    2.745265    2.913639    3.230656  \n",
       "min      0.000000    0.000000    0.000000    0.000000  \n",
       "25%      0.000000   10.000000   10.000000   10.000000  \n",
       "50%      2.000000   11.000000   11.000000   12.000000  \n",
       "75%      6.000000   13.000000   13.000000   14.000000  \n",
       "max     32.000000   19.000000   19.000000   19.000000  "
      ]
     },
     "execution_count": 6,
     "metadata": {},
     "output_type": "execute_result"
    }
   ],
   "source": [
    "data.describe()"
   ]
  },
  {
   "cell_type": "code",
   "execution_count": 7,
   "metadata": {
    "execution": {
     "iopub.execute_input": "2021-09-03T06:07:11.720101Z",
     "iopub.status.busy": "2021-09-03T06:07:11.719696Z",
     "iopub.status.idle": "2021-09-03T06:07:12.278407Z",
     "shell.execute_reply": "2021-09-03T06:07:12.277509Z",
     "shell.execute_reply.started": "2021-09-03T06:07:11.72006Z"
    },
    "id": "QRRCrWc7Xo7m",
    "outputId": "05687cad-f60b-4891-a274-150c7c80592d"
   },
   "outputs": [
    {
     "data": {
      "text/plain": [
       "<AxesSubplot:>"
      ]
     },
     "execution_count": 7,
     "metadata": {},
     "output_type": "execute_result"
    },
    {
     "data": {
      "image/png": "[encoded data removed]",
      "text/plain": [
       "<Figure size 432x288 with 2 Axes>"
      ]
     },
     "metadata": {
      "needs_background": "light"
     },
     "output_type": "display_data"
    }
   ],
   "source": [
    "#let us check if there is any nan values present\n",
    "sns.heatmap(data.isnull())"
   ]
  },
  {
   "cell_type": "markdown",
   "metadata": {
    "id": "0EdApKBRX3yl"
   },
   "source": [
    "There is no nan values present in our dataset."
   ]
  },
  {
   "cell_type": "markdown",
   "metadata": {
    "id": "zR14zPugK_xz"
   },
   "source": [
    "Let us do some Exploratory data Analysis and find how dependent and independent features are related to each other."
   ]
  },
  {
   "cell_type": "code",
   "execution_count": 8,
   "metadata": {
    "execution": {
     "iopub.execute_input": "2021-09-03T06:07:12.280938Z",
     "iopub.status.busy": "2021-09-03T06:07:12.280667Z",
     "iopub.status.idle": "2021-09-03T06:07:12.47942Z",
     "shell.execute_reply": "2021-09-03T06:07:12.47834Z",
     "shell.execute_reply.started": "2021-09-03T06:07:12.280911Z"
    },
    "id": "71ugDSWTX2cy",
    "outputId": "cc9f6cfc-4c90-4e87-fed8-e9ea100f54cc"
   },
   "outputs": [
    {
     "name": "stderr",
     "output_type": "stream",
     "text": [
      "c:\\users\\shardul\\appdata\\local\\programs\\python\\python39\\lib\\site-packages\\seaborn\\_decorators.py:36: FutureWarning: Pass the following variables as keyword args: x, y. From version 0.12, the only valid positional argument will be `data`, and passing other arguments without an explicit keyword will result in an error or misinterpretation.\n",
      "  warnings.warn(\n"
     ]
    },
    {
     "data": {
      "text/plain": [
       "<AxesSubplot:xlabel='sex', ylabel='G3'>"
      ]
     },
     "execution_count": 8,
     "metadata": {},
     "output_type": "execute_result"
    },
    {
     "data": {
      "image/png": "[encoded data removed]",
      "text/plain": [
       "<Figure size 432x288 with 1 Axes>"
      ]
     },
     "metadata": {
      "needs_background": "light"
     },
     "output_type": "display_data"
    }
   ],
   "source": [
    "sns.barplot(data['sex'],data['G3'])"
   ]
  },
  {
   "cell_type": "markdown",
   "metadata": {
    "id": "59RGRa1sLKAl"
   },
   "source": [
    "We could see that male has performed well than female."
   ]
  },
  {
   "cell_type": "code",
   "execution_count": 9,
   "metadata": {
    "execution": {
     "iopub.execute_input": "2021-09-03T06:07:12.481344Z",
     "iopub.status.busy": "2021-09-03T06:07:12.481049Z",
     "iopub.status.idle": "2021-09-03T06:07:13.173447Z",
     "shell.execute_reply": "2021-09-03T06:07:13.172482Z",
     "shell.execute_reply.started": "2021-09-03T06:07:12.481318Z"
    },
    "id": "coSabaMgLoCG",
    "outputId": "ddbe032f-8904-4d8c-8c54-9772f5c86664"
   },
   "outputs": [
    {
     "name": "stderr",
     "output_type": "stream",
     "text": [
      "c:\\users\\shardul\\appdata\\local\\programs\\python\\python39\\lib\\site-packages\\seaborn\\_decorators.py:36: FutureWarning: Pass the following variables as keyword args: x, y. From version 0.12, the only valid positional argument will be `data`, and passing other arguments without an explicit keyword will result in an error or misinterpretation.\n",
      "  warnings.warn(\n"
     ]
    },
    {
     "data": {
      "text/plain": [
       "<AxesSubplot:xlabel='G3', ylabel='absences'>"
      ]
     },
     "execution_count": 9,
     "metadata": {},
     "output_type": "execute_result"
    },
    {
     "data": {
      "image/png": "[encoded data removed]",
      "text/plain": [
       "<Figure size 432x288 with 1 Axes>"
      ]
     },
     "metadata": {
      "needs_background": "light"
     },
     "output_type": "display_data"
    }
   ],
   "source": [
    "sns.lineplot(data['G3'],data['absences'])"
   ]
  },
  {
   "cell_type": "markdown",
   "metadata": {
    "id": "Iqiv4lZzNL0x"
   },
   "source": [
    "We could observe that as absences decreases, the Grade mark increases.So the students who are absent for most of the classes will get their grade low."
   ]
  },
  {
   "cell_type": "code",
   "execution_count": 10,
   "metadata": {
    "execution": {
     "iopub.execute_input": "2021-09-03T06:07:13.175458Z",
     "iopub.status.busy": "2021-09-03T06:07:13.174969Z",
     "iopub.status.idle": "2021-09-03T06:07:13.639719Z",
     "shell.execute_reply": "2021-09-03T06:07:13.638618Z",
     "shell.execute_reply.started": "2021-09-03T06:07:13.17541Z"
    },
    "id": "Zezm-kWkMGC9",
    "outputId": "ab5af80d-fede-49f8-970c-ddc3e04189e5"
   },
   "outputs": [
    {
     "name": "stderr",
     "output_type": "stream",
     "text": [
      "c:\\users\\shardul\\appdata\\local\\programs\\python\\python39\\lib\\site-packages\\seaborn\\_decorators.py:36: FutureWarning: Pass the following variables as keyword args: x, y. From version 0.12, the only valid positional argument will be `data`, and passing other arguments without an explicit keyword will result in an error or misinterpretation.\n",
      "  warnings.warn(\n"
     ]
    },
    {
     "data": {
      "text/plain": [
       "<AxesSubplot:xlabel='health', ylabel='absences'>"
      ]
     },
     "execution_count": 10,
     "metadata": {},
     "output_type": "execute_result"
    },
    {
     "data": {
      "image/png": "[encoded data removed]",
      "text/plain": [
       "<Figure size 432x288 with 1 Axes>"
      ]
     },
     "metadata": {
      "needs_background": "light"
     },
     "output_type": "display_data"
    }
   ],
   "source": [
    "sns.violinplot(data['health'],data['absences'])"
   ]
  },
  {
   "cell_type": "markdown",
   "metadata": {
    "id": "0Tnepf4DOSBu"
   },
   "source": [
    "From this we could see that the students who are absent for most of the classes is not for bad health.Because even the students with good health(5) also has more absences."
   ]
  },
  {
   "cell_type": "code",
   "execution_count": 11,
   "metadata": {
    "execution": {
     "iopub.execute_input": "2021-09-03T06:07:13.641898Z",
     "iopub.status.busy": "2021-09-03T06:07:13.641496Z",
     "iopub.status.idle": "2021-09-03T06:07:13.835877Z",
     "shell.execute_reply": "2021-09-03T06:07:13.83487Z",
     "shell.execute_reply.started": "2021-09-03T06:07:13.641855Z"
    },
    "id": "3_KRedsTO57F",
    "outputId": "9cb63b94-9151-4899-f1b2-08e15a757beb"
   },
   "outputs": [
    {
     "name": "stderr",
     "output_type": "stream",
     "text": [
      "c:\\users\\shardul\\appdata\\local\\programs\\python\\python39\\lib\\site-packages\\seaborn\\_decorators.py:36: FutureWarning: Pass the following variable as a keyword arg: x. From version 0.12, the only valid positional argument will be `data`, and passing other arguments without an explicit keyword will result in an error or misinterpretation.\n",
      "  warnings.warn(\n"
     ]
    },
    {
     "data": {
      "text/plain": [
       "<AxesSubplot:xlabel='higher', ylabel='count'>"
      ]
     },
     "execution_count": 11,
     "metadata": {},
     "output_type": "execute_result"
    },
    {
     "data": {
      "image/png": "[encoded data removed]",
      "text/plain": [
       "<Figure size 432x288 with 1 Axes>"
      ]
     },
     "metadata": {
      "needs_background": "light"
     },
     "output_type": "display_data"
    }
   ],
   "source": [
    "sns.countplot(data['higher'],hue=data['sex'])"
   ]
  },
  {
   "cell_type": "markdown",
   "metadata": {
    "id": "0kMmxl5MQEFr"
   },
   "source": [
    "From this we could see that most of the students prefer to pursue Higher education.And even females preference was higher than male in pursuing higher education."
   ]
  },
  {
   "cell_type": "code",
   "execution_count": 12,
   "metadata": {
    "execution": {
     "iopub.execute_input": "2021-09-03T06:07:13.837412Z",
     "iopub.status.busy": "2021-09-03T06:07:13.837133Z",
     "iopub.status.idle": "2021-09-03T06:07:14.142717Z",
     "shell.execute_reply": "2021-09-03T06:07:14.14137Z",
     "shell.execute_reply.started": "2021-09-03T06:07:13.837385Z"
    },
    "id": "G_8CNw66P_cL",
    "outputId": "4ec4bf4c-ebae-4137-c516-47487e04943d"
   },
   "outputs": [
    {
     "name": "stderr",
     "output_type": "stream",
     "text": [
      "c:\\users\\shardul\\appdata\\local\\programs\\python\\python39\\lib\\site-packages\\seaborn\\_decorators.py:36: FutureWarning: Pass the following variables as keyword args: x, y. From version 0.12, the only valid positional argument will be `data`, and passing other arguments without an explicit keyword will result in an error or misinterpretation.\n",
      "  warnings.warn(\n"
     ]
    },
    {
     "data": {
      "text/plain": [
       "<AxesSubplot:xlabel='internet', ylabel='G3'>"
      ]
     },
     "execution_count": 12,
     "metadata": {},
     "output_type": "execute_result"
    },
    {
     "data": {
      "image/png": "[encoded data removed]",
      "text/plain": [
       "<Figure size 432x288 with 1 Axes>"
      ]
     },
     "metadata": {
      "needs_background": "light"
     },
     "output_type": "display_data"
    }
   ],
   "source": [
    "sns.barplot(data['internet'],data['G3'])"
   ]
  },
  {
   "cell_type": "markdown",
   "metadata": {
    "id": "wWC60hmnR9L0"
   },
   "source": [
    "We could see that the students who got internet connection has scored better than the students who does'nt have internet connection."
   ]
  },
  {
   "cell_type": "code",
   "execution_count": 13,
   "metadata": {
    "execution": {
     "iopub.execute_input": "2021-09-03T06:07:14.144461Z",
     "iopub.status.busy": "2021-09-03T06:07:14.144167Z",
     "iopub.status.idle": "2021-09-03T06:07:16.134755Z",
     "shell.execute_reply": "2021-09-03T06:07:16.133716Z",
     "shell.execute_reply.started": "2021-09-03T06:07:14.144432Z"
    },
    "id": "X94P42TER066",
    "outputId": "f643c7dc-688d-4bd1-a884-e309bcd17e34"
   },
   "outputs": [
    {
     "data": {
      "text/plain": [
       "Text(0.5, 0, 'Mother education')"
      ]
     },
     "execution_count": 13,
     "metadata": {},
     "output_type": "execute_result"
    },
    {
     "data": {
      "image/png": "[encoded data removed]",
      "text/plain": [
       "<Figure size 864x360 with 2 Axes>"
      ]
     },
     "metadata": {
      "needs_background": "light"
     },
     "output_type": "display_data"
    }
   ],
   "source": [
    "fig,(ax1,ax2)=plt.subplots(nrows=1,ncols=2,figsize=(12,5))\n",
    "ax1.bar(data['Fedu'],data['G3'],color='tomato')\n",
    "ax1.set_xlabel('Father education')\n",
    "ax1.set_ylabel('Grade')\n",
    "ax2.bar(data['Medu'],data['G3'],color='salmon')\n",
    "ax2.set_xlabel('Mother education')\n",
    "#(0 - none, 1 - primary education (4th grade), 2 - 5th to 9th grade, 3 - secondary education or 4 - higher education)"
   ]
  },
  {
   "cell_type": "markdown",
   "metadata": {
    "id": "N5Ri3220VGCL"
   },
   "source": [
    "From this we could see that Father's education does not affects student's grade but for the mothers who are educated their student's grade level got increased.It is because mothers teach their children.May be..."
   ]
  },
  {
   "cell_type": "code",
   "execution_count": 14,
   "metadata": {
    "execution": {
     "iopub.execute_input": "2021-09-03T06:07:16.138419Z",
     "iopub.status.busy": "2021-09-03T06:07:16.138071Z",
     "iopub.status.idle": "2021-09-03T06:07:18.197877Z",
     "shell.execute_reply": "2021-09-03T06:07:18.196594Z",
     "shell.execute_reply.started": "2021-09-03T06:07:16.138389Z"
    },
    "id": "IgpSVBYsSe6W",
    "outputId": "209a26db-0da9-48d4-b333-d63fb5f96cb5"
   },
   "outputs": [
    {
     "data": {
      "text/plain": [
       "Text(0.5, 0, ' number of past class failures')"
      ]
     },
     "execution_count": 14,
     "metadata": {},
     "output_type": "execute_result"
    },
    {
     "data": {
      "image/png": "[encoded data removed]",
      "text/plain": [
       "<Figure size 864x360 with 2 Axes>"
      ]
     },
     "metadata": {
      "needs_background": "light"
     },
     "output_type": "display_data"
    }
   ],
   "source": [
    "fig,(ax1,ax2)=plt.subplots(nrows=1,ncols=2,figsize=(12,5))\n",
    "ax1.bar(data['nursery'],data['G3'],color='c')\n",
    "ax1.set_xlabel('Students attended nursery school')\n",
    "ax1.set_ylabel('Grade')\n",
    "ax2.bar(data['failures'],data['G3'])\n",
    "ax2.set_xlabel(' number of past class failures')\n"
   ]
  },
  {
   "cell_type": "markdown",
   "metadata": {
    "id": "Oax4GFdGYpZX"
   },
   "source": [
    "We could see that the students who attended nursery schools have performed well because of their primary Knowledge.\n",
    "\n",
    "And also as no.of past class failures increases the grade decreases."
   ]
  },
  {
   "cell_type": "code",
   "execution_count": 15,
   "metadata": {
    "execution": {
     "iopub.execute_input": "2021-09-03T06:07:18.199813Z",
     "iopub.status.busy": "2021-09-03T06:07:18.199403Z",
     "iopub.status.idle": "2021-09-03T06:07:20.267127Z",
     "shell.execute_reply": "2021-09-03T06:07:20.266028Z",
     "shell.execute_reply.started": "2021-09-03T06:07:18.199768Z"
    },
    "id": "9HWb62ewlrom",
    "outputId": "ffc76646-7297-4b17-bd01-82030634c725"
   },
   "outputs": [
    {
     "data": {
      "text/plain": [
       "Text(0.5, 0, ' weekend alcohol consumption')"
      ]
     },
     "execution_count": 15,
     "metadata": {},
     "output_type": "execute_result"
    },
    {
     "data": {
      "image/png": "[encoded data removed]",
      "text/plain": [
       "<Figure size 864x360 with 2 Axes>"
      ]
     },
     "metadata": {
      "needs_background": "light"
     },
     "output_type": "display_data"
    }
   ],
   "source": [
    "fig,(ax1,ax2)=plt.subplots(nrows=1,ncols=2,figsize=(12,5))\n",
    "ax1.bar(data['Dalc'],data['G3'],color='palevioletred')\n",
    "ax1.set_xlabel(' workday alcohol consumption ') #(numeric: from 1 - very low to 5 - very high)\n",
    "ax1.set_ylabel('Grade')\n",
    "ax2.bar(data['Walc'],data['G3'],color='crimson')\n",
    "ax2.set_xlabel(' weekend alcohol consumption') #(numeric: from 1 - very low to 5 - very high)"
   ]
  },
  {
   "cell_type": "markdown",
   "metadata": {
    "id": "leLKfhPit7eS"
   },
   "source": [
    "From this graph we could see that how alcohol consumption has affected the students grade."
   ]
  },
  {
   "cell_type": "code",
   "execution_count": 16,
   "metadata": {
    "execution": {
     "iopub.execute_input": "2021-09-03T06:07:20.270777Z",
     "iopub.status.busy": "2021-09-03T06:07:20.270467Z",
     "iopub.status.idle": "2021-09-03T06:07:20.277318Z",
     "shell.execute_reply": "2021-09-03T06:07:20.276339Z",
     "shell.execute_reply.started": "2021-09-03T06:07:20.270746Z"
    },
    "id": "Bd3KCBlkvM64",
    "outputId": "483ed29c-8cb8-4ce2-cfa8-72d661426874"
   },
   "outputs": [
    {
     "data": {
      "text/plain": [
       "Index(['school', 'sex', 'age', 'address', 'famsize', 'Pstatus', 'Medu', 'Fedu',\n",
       "       'Mjob', 'Fjob', 'reason', 'guardian', 'traveltime', 'studytime',\n",
       "       'failures', 'schoolsup', 'famsup', 'paid', 'activities', 'nursery',\n",
       "       'higher', 'internet', 'romantic', 'famrel', 'freetime', 'goout', 'Dalc',\n",
       "       'Walc', 'health', 'absences', 'G1', 'G2', 'G3'],\n",
       "      dtype='object')"
      ]
     },
     "execution_count": 16,
     "metadata": {},
     "output_type": "execute_result"
    }
   ],
   "source": [
    "data.columns"
   ]
  },
  {
   "cell_type": "markdown",
   "metadata": {
    "id": "7EPLKw6i-A5v"
   },
   "source": [
    "Split the data into dependent and independent features."
   ]
  },
  {
   "cell_type": "code",
   "execution_count": 17,
   "metadata": {
    "execution": {
     "iopub.execute_input": "2021-09-03T06:07:20.278759Z",
     "iopub.status.busy": "2021-09-03T06:07:20.278477Z",
     "iopub.status.idle": "2021-09-03T06:07:20.291279Z",
     "shell.execute_reply": "2021-09-03T06:07:20.290354Z",
     "shell.execute_reply.started": "2021-09-03T06:07:20.278732Z"
    },
    "id": "PqW1NCsduPA8"
   },
   "outputs": [],
   "source": [
    "X=data[['G1','G2','Medu','Walc','studytime','failures','absences']]\n",
    "y=data['G3']"
   ]
  },
  {
   "cell_type": "code",
   "execution_count": 18,
   "metadata": {
    "execution": {
     "iopub.execute_input": "2021-09-03T06:07:20.292727Z",
     "iopub.status.busy": "2021-09-03T06:07:20.292449Z",
     "iopub.status.idle": "2021-09-03T06:07:20.487035Z",
     "shell.execute_reply": "2021-09-03T06:07:20.486008Z",
     "shell.execute_reply.started": "2021-09-03T06:07:20.292701Z"
    },
    "id": "TvLUDLkuw6vx"
   },
   "outputs": [],
   "source": [
    "from sklearn.model_selection import train_test_split"
   ]
  },
  {
   "cell_type": "code",
   "execution_count": 19,
   "metadata": {
    "execution": {
     "iopub.execute_input": "2021-09-03T06:07:20.488648Z",
     "iopub.status.busy": "2021-09-03T06:07:20.488345Z",
     "iopub.status.idle": "2021-09-03T06:07:20.49679Z",
     "shell.execute_reply": "2021-09-03T06:07:20.49553Z",
     "shell.execute_reply.started": "2021-09-03T06:07:20.488615Z"
    },
    "id": "_kvcU5TMw-wB"
   },
   "outputs": [],
   "source": [
    "X_train,X_test,y_train,y_test=train_test_split(X,y,test_size=0.33,random_state=101)"
   ]
  },
  {
   "cell_type": "markdown",
   "metadata": {
    "id": "r7d3w9Uq-F_J"
   },
   "source": [
    "**Using KNN**"
   ]
  },
  {
   "cell_type": "code",
   "execution_count": 20,
   "metadata": {
    "execution": {
     "iopub.execute_input": "2021-09-03T06:07:20.498792Z",
     "iopub.status.busy": "2021-09-03T06:07:20.498233Z",
     "iopub.status.idle": "2021-09-03T06:07:20.662235Z",
     "shell.execute_reply": "2021-09-03T06:07:20.661271Z",
     "shell.execute_reply.started": "2021-09-03T06:07:20.498759Z"
    },
    "id": "jl6lonRFxJji"
   },
   "outputs": [],
   "source": [
    "from sklearn.neighbors import KNeighborsRegressor"
   ]
  },
  {
   "cell_type": "code",
   "execution_count": 21,
   "metadata": {
    "execution": {
     "iopub.execute_input": "2021-09-03T06:07:20.663865Z",
     "iopub.status.busy": "2021-09-03T06:07:20.663557Z",
     "iopub.status.idle": "2021-09-03T06:07:20.668111Z",
     "shell.execute_reply": "2021-09-03T06:07:20.667334Z",
     "shell.execute_reply.started": "2021-09-03T06:07:20.663834Z"
    },
    "id": "hdgkt79eyH6A"
   },
   "outputs": [],
   "source": [
    "knn=KNeighborsRegressor(n_jobs=-1)"
   ]
  },
  {
   "cell_type": "code",
   "execution_count": 22,
   "metadata": {
    "execution": {
     "iopub.execute_input": "2021-09-03T06:07:20.669392Z",
     "iopub.status.busy": "2021-09-03T06:07:20.669101Z",
     "iopub.status.idle": "2021-09-03T06:07:20.681518Z",
     "shell.execute_reply": "2021-09-03T06:07:20.680356Z",
     "shell.execute_reply.started": "2021-09-03T06:07:20.669363Z"
    },
    "id": "NQ_B31BW3QXQ"
   },
   "outputs": [],
   "source": [
    "knn_neighbors={'n_neighbors':[1,2,3,4,5,6,7,8,9,10]}"
   ]
  },
  {
   "cell_type": "code",
   "execution_count": 23,
   "metadata": {
    "execution": {
     "iopub.execute_input": "2021-09-03T06:07:20.686058Z",
     "iopub.status.busy": "2021-09-03T06:07:20.685703Z",
     "iopub.status.idle": "2021-09-03T06:07:20.693225Z",
     "shell.execute_reply": "2021-09-03T06:07:20.691976Z",
     "shell.execute_reply.started": "2021-09-03T06:07:20.686023Z"
    },
    "id": "UzsyOYdE2SJf"
   },
   "outputs": [],
   "source": [
    "from sklearn.model_selection import GridSearchCV"
   ]
  },
  {
   "cell_type": "code",
   "execution_count": 24,
   "metadata": {
    "execution": {
     "iopub.execute_input": "2021-09-03T06:07:20.69567Z",
     "iopub.status.busy": "2021-09-03T06:07:20.695192Z",
     "iopub.status.idle": "2021-09-03T06:07:23.330744Z",
     "shell.execute_reply": "2021-09-03T06:07:23.329788Z",
     "shell.execute_reply.started": "2021-09-03T06:07:20.695553Z"
    },
    "id": "5n5vaHe42aj0"
   },
   "outputs": [
    {
     "name": "stderr",
     "output_type": "stream",
     "text": [
      "c:\\users\\shardul\\appdata\\local\\programs\\python\\python39\\lib\\site-packages\\sklearn\\base.py:441: UserWarning: X does not have valid feature names, but KNeighborsRegressor was fitted with feature names\n",
      "  warnings.warn(\n",
      "c:\\users\\shardul\\appdata\\local\\programs\\python\\python39\\lib\\site-packages\\sklearn\\base.py:441: UserWarning: X does not have valid feature names, but KNeighborsRegressor was fitted with feature names\n",
      "  warnings.warn(\n",
      "c:\\users\\shardul\\appdata\\local\\programs\\python\\python39\\lib\\site-packages\\sklearn\\base.py:441: UserWarning: X does not have valid feature names, but KNeighborsRegressor was fitted with feature names\n",
      "  warnings.warn(\n",
      "c:\\users\\shardul\\appdata\\local\\programs\\python\\python39\\lib\\site-packages\\sklearn\\base.py:441: UserWarning: X does not have valid feature names, but KNeighborsRegressor was fitted with feature names\n",
      "  warnings.warn(\n",
      "c:\\users\\shardul\\appdata\\local\\programs\\python\\python39\\lib\\site-packages\\sklearn\\base.py:441: UserWarning: X does not have valid feature names, but KNeighborsRegressor was fitted with feature names\n",
      "  warnings.warn(\n",
      "c:\\users\\shardul\\appdata\\local\\programs\\python\\python39\\lib\\site-packages\\sklearn\\base.py:441: UserWarning: X does not have valid feature names, but KNeighborsRegressor was fitted with feature names\n",
      "  warnings.warn(\n",
      "c:\\users\\shardul\\appdata\\local\\programs\\python\\python39\\lib\\site-packages\\sklearn\\base.py:441: UserWarning: X does not have valid feature names, but KNeighborsRegressor was fitted with feature names\n",
      "  warnings.warn(\n",
      "c:\\users\\shardul\\appdata\\local\\programs\\python\\python39\\lib\\site-packages\\sklearn\\base.py:441: UserWarning: X does not have valid feature names, but KNeighborsRegressor was fitted with feature names\n",
      "  warnings.warn(\n",
      "c:\\users\\shardul\\appdata\\local\\programs\\python\\python39\\lib\\site-packages\\sklearn\\base.py:441: UserWarning: X does not have valid feature names, but KNeighborsRegressor was fitted with feature names\n",
      "  warnings.warn(\n",
      "c:\\users\\shardul\\appdata\\local\\programs\\python\\python39\\lib\\site-packages\\sklearn\\base.py:441: UserWarning: X does not have valid feature names, but KNeighborsRegressor was fitted with feature names\n",
      "  warnings.warn(\n",
      "c:\\users\\shardul\\appdata\\local\\programs\\python\\python39\\lib\\site-packages\\sklearn\\base.py:441: UserWarning: X does not have valid feature names, but KNeighborsRegressor was fitted with feature names\n",
      "  warnings.warn(\n",
      "c:\\users\\shardul\\appdata\\local\\programs\\python\\python39\\lib\\site-packages\\sklearn\\base.py:441: UserWarning: X does not have valid feature names, but KNeighborsRegressor was fitted with feature names\n",
      "  warnings.warn(\n",
      "c:\\users\\shardul\\appdata\\local\\programs\\python\\python39\\lib\\site-packages\\sklearn\\base.py:441: UserWarning: X does not have valid feature names, but KNeighborsRegressor was fitted with feature names\n",
      "  warnings.warn(\n",
      "c:\\users\\shardul\\appdata\\local\\programs\\python\\python39\\lib\\site-packages\\sklearn\\base.py:441: UserWarning: X does not have valid feature names, but KNeighborsRegressor was fitted with feature names\n",
      "  warnings.warn(\n",
      "c:\\users\\shardul\\appdata\\local\\programs\\python\\python39\\lib\\site-packages\\sklearn\\base.py:441: UserWarning: X does not have valid feature names, but KNeighborsRegressor was fitted with feature names\n",
      "  warnings.warn(\n",
      "c:\\users\\shardul\\appdata\\local\\programs\\python\\python39\\lib\\site-packages\\sklearn\\base.py:441: UserWarning: X does not have valid feature names, but KNeighborsRegressor was fitted with feature names\n",
      "  warnings.warn(\n",
      "c:\\users\\shardul\\appdata\\local\\programs\\python\\python39\\lib\\site-packages\\sklearn\\base.py:441: UserWarning: X does not have valid feature names, but KNeighborsRegressor was fitted with feature names\n",
      "  warnings.warn(\n",
      "c:\\users\\shardul\\appdata\\local\\programs\\python\\python39\\lib\\site-packages\\sklearn\\base.py:441: UserWarning: X does not have valid feature names, but KNeighborsRegressor was fitted with feature names\n",
      "  warnings.warn(\n",
      "c:\\users\\shardul\\appdata\\local\\programs\\python\\python39\\lib\\site-packages\\sklearn\\base.py:441: UserWarning: X does not have valid feature names, but KNeighborsRegressor was fitted with feature names\n",
      "  warnings.warn(\n",
      "c:\\users\\shardul\\appdata\\local\\programs\\python\\python39\\lib\\site-packages\\sklearn\\base.py:441: UserWarning: X does not have valid feature names, but KNeighborsRegressor was fitted with feature names\n",
      "  warnings.warn(\n",
      "c:\\users\\shardul\\appdata\\local\\programs\\python\\python39\\lib\\site-packages\\sklearn\\base.py:441: UserWarning: X does not have valid feature names, but KNeighborsRegressor was fitted with feature names\n",
      "  warnings.warn(\n",
      "c:\\users\\shardul\\appdata\\local\\programs\\python\\python39\\lib\\site-packages\\sklearn\\base.py:441: UserWarning: X does not have valid feature names, but KNeighborsRegressor was fitted with feature names\n",
      "  warnings.warn(\n",
      "c:\\users\\shardul\\appdata\\local\\programs\\python\\python39\\lib\\site-packages\\sklearn\\base.py:441: UserWarning: X does not have valid feature names, but KNeighborsRegressor was fitted with feature names\n",
      "  warnings.warn(\n",
      "c:\\users\\shardul\\appdata\\local\\programs\\python\\python39\\lib\\site-packages\\sklearn\\base.py:441: UserWarning: X does not have valid feature names, but KNeighborsRegressor was fitted with feature names\n",
      "  warnings.warn(\n",
      "c:\\users\\shardul\\appdata\\local\\programs\\python\\python39\\lib\\site-packages\\sklearn\\base.py:441: UserWarning: X does not have valid feature names, but KNeighborsRegressor was fitted with feature names\n",
      "  warnings.warn(\n",
      "c:\\users\\shardul\\appdata\\local\\programs\\python\\python39\\lib\\site-packages\\sklearn\\base.py:441: UserWarning: X does not have valid feature names, but KNeighborsRegressor was fitted with feature names\n",
      "  warnings.warn(\n",
      "c:\\users\\shardul\\appdata\\local\\programs\\python\\python39\\lib\\site-packages\\sklearn\\base.py:441: UserWarning: X does not have valid feature names, but KNeighborsRegressor was fitted with feature names\n",
      "  warnings.warn(\n",
      "c:\\users\\shardul\\appdata\\local\\programs\\python\\python39\\lib\\site-packages\\sklearn\\base.py:441: UserWarning: X does not have valid feature names, but KNeighborsRegressor was fitted with feature names\n",
      "  warnings.warn(\n",
      "c:\\users\\shardul\\appdata\\local\\programs\\python\\python39\\lib\\site-packages\\sklearn\\base.py:441: UserWarning: X does not have valid feature names, but KNeighborsRegressor was fitted with feature names\n",
      "  warnings.warn(\n",
      "c:\\users\\shardul\\appdata\\local\\programs\\python\\python39\\lib\\site-packages\\sklearn\\base.py:441: UserWarning: X does not have valid feature names, but KNeighborsRegressor was fitted with feature names\n",
      "  warnings.warn(\n",
      "c:\\users\\shardul\\appdata\\local\\programs\\python\\python39\\lib\\site-packages\\sklearn\\base.py:441: UserWarning: X does not have valid feature names, but KNeighborsRegressor was fitted with feature names\n",
      "  warnings.warn(\n",
      "c:\\users\\shardul\\appdata\\local\\programs\\python\\python39\\lib\\site-packages\\sklearn\\base.py:441: UserWarning: X does not have valid feature names, but KNeighborsRegressor was fitted with feature names\n",
      "  warnings.warn(\n",
      "c:\\users\\shardul\\appdata\\local\\programs\\python\\python39\\lib\\site-packages\\sklearn\\base.py:441: UserWarning: X does not have valid feature names, but KNeighborsRegressor was fitted with feature names\n",
      "  warnings.warn(\n",
      "c:\\users\\shardul\\appdata\\local\\programs\\python\\python39\\lib\\site-packages\\sklearn\\base.py:441: UserWarning: X does not have valid feature names, but KNeighborsRegressor was fitted with feature names\n",
      "  warnings.warn(\n",
      "c:\\users\\shardul\\appdata\\local\\programs\\python\\python39\\lib\\site-packages\\sklearn\\base.py:441: UserWarning: X does not have valid feature names, but KNeighborsRegressor was fitted with feature names\n",
      "  warnings.warn(\n",
      "c:\\users\\shardul\\appdata\\local\\programs\\python\\python39\\lib\\site-packages\\sklearn\\base.py:441: UserWarning: X does not have valid feature names, but KNeighborsRegressor was fitted with feature names\n",
      "  warnings.warn(\n",
      "c:\\users\\shardul\\appdata\\local\\programs\\python\\python39\\lib\\site-packages\\sklearn\\base.py:441: UserWarning: X does not have valid feature names, but KNeighborsRegressor was fitted with feature names\n",
      "  warnings.warn(\n",
      "c:\\users\\shardul\\appdata\\local\\programs\\python\\python39\\lib\\site-packages\\sklearn\\base.py:441: UserWarning: X does not have valid feature names, but KNeighborsRegressor was fitted with feature names\n",
      "  warnings.warn(\n",
      "c:\\users\\shardul\\appdata\\local\\programs\\python\\python39\\lib\\site-packages\\sklearn\\base.py:441: UserWarning: X does not have valid feature names, but KNeighborsRegressor was fitted with feature names\n",
      "  warnings.warn(\n",
      "c:\\users\\shardul\\appdata\\local\\programs\\python\\python39\\lib\\site-packages\\sklearn\\base.py:441: UserWarning: X does not have valid feature names, but KNeighborsRegressor was fitted with feature names\n",
      "  warnings.warn(\n",
      "c:\\users\\shardul\\appdata\\local\\programs\\python\\python39\\lib\\site-packages\\sklearn\\base.py:441: UserWarning: X does not have valid feature names, but KNeighborsRegressor was fitted with feature names\n",
      "  warnings.warn(\n",
      "c:\\users\\shardul\\appdata\\local\\programs\\python\\python39\\lib\\site-packages\\sklearn\\base.py:441: UserWarning: X does not have valid feature names, but KNeighborsRegressor was fitted with feature names\n",
      "  warnings.warn(\n",
      "c:\\users\\shardul\\appdata\\local\\programs\\python\\python39\\lib\\site-packages\\sklearn\\base.py:441: UserWarning: X does not have valid feature names, but KNeighborsRegressor was fitted with feature names\n",
      "  warnings.warn(\n",
      "c:\\users\\shardul\\appdata\\local\\programs\\python\\python39\\lib\\site-packages\\sklearn\\base.py:441: UserWarning: X does not have valid feature names, but KNeighborsRegressor was fitted with feature names\n",
      "  warnings.warn(\n",
      "c:\\users\\shardul\\appdata\\local\\programs\\python\\python39\\lib\\site-packages\\sklearn\\base.py:441: UserWarning: X does not have valid feature names, but KNeighborsRegressor was fitted with feature names\n",
      "  warnings.warn(\n",
      "c:\\users\\shardul\\appdata\\local\\programs\\python\\python39\\lib\\site-packages\\sklearn\\base.py:441: UserWarning: X does not have valid feature names, but KNeighborsRegressor was fitted with feature names\n",
      "  warnings.warn(\n",
      "c:\\users\\shardul\\appdata\\local\\programs\\python\\python39\\lib\\site-packages\\sklearn\\base.py:441: UserWarning: X does not have valid feature names, but KNeighborsRegressor was fitted with feature names\n",
      "  warnings.warn(\n",
      "c:\\users\\shardul\\appdata\\local\\programs\\python\\python39\\lib\\site-packages\\sklearn\\base.py:441: UserWarning: X does not have valid feature names, but KNeighborsRegressor was fitted with feature names\n",
      "  warnings.warn(\n",
      "c:\\users\\shardul\\appdata\\local\\programs\\python\\python39\\lib\\site-packages\\sklearn\\base.py:441: UserWarning: X does not have valid feature names, but KNeighborsRegressor was fitted with feature names\n",
      "  warnings.warn(\n",
      "c:\\users\\shardul\\appdata\\local\\programs\\python\\python39\\lib\\site-packages\\sklearn\\base.py:441: UserWarning: X does not have valid feature names, but KNeighborsRegressor was fitted with feature names\n",
      "  warnings.warn(\n"
     ]
    }
   ],
   "source": [
    "classifier=GridSearchCV(knn,param_grid=knn_neighbors,cv=5,verbose=0).fit(X_train,y_train)"
   ]
  },
  {
   "cell_type": "code",
   "execution_count": 25,
   "metadata": {
    "execution": {
     "iopub.execute_input": "2021-09-03T06:07:23.332408Z",
     "iopub.status.busy": "2021-09-03T06:07:23.332012Z",
     "iopub.status.idle": "2021-09-03T06:07:23.338376Z",
     "shell.execute_reply": "2021-09-03T06:07:23.337525Z",
     "shell.execute_reply.started": "2021-09-03T06:07:23.332374Z"
    },
    "id": "mAv9McUu3022",
    "outputId": "1df7879a-693d-43fd-fd92-3fda26e983e6"
   },
   "outputs": [
    {
     "data": {
      "text/plain": [
       "{'n_neighbors': 8}"
      ]
     },
     "execution_count": 25,
     "metadata": {},
     "output_type": "execute_result"
    }
   ],
   "source": [
    "classifier.best_params_"
   ]
  },
  {
   "cell_type": "code",
   "execution_count": 26,
   "metadata": {
    "execution": {
     "iopub.execute_input": "2021-09-03T06:07:23.340174Z",
     "iopub.status.busy": "2021-09-03T06:07:23.339772Z",
     "iopub.status.idle": "2021-09-03T06:07:23.349504Z",
     "shell.execute_reply": "2021-09-03T06:07:23.348569Z",
     "shell.execute_reply.started": "2021-09-03T06:07:23.340136Z"
    },
    "id": "2wSFB39A4hUg"
   },
   "outputs": [],
   "source": [
    "best_grid=classifier.best_estimator_"
   ]
  },
  {
   "cell_type": "code",
   "execution_count": 27,
   "metadata": {
    "execution": {
     "iopub.execute_input": "2021-09-03T06:07:23.351219Z",
     "iopub.status.busy": "2021-09-03T06:07:23.35072Z",
     "iopub.status.idle": "2021-09-03T06:07:23.470791Z",
     "shell.execute_reply": "2021-09-03T06:07:23.469894Z",
     "shell.execute_reply.started": "2021-09-03T06:07:23.351189Z"
    },
    "id": "9wCBDS5vyW-I"
   },
   "outputs": [
    {
     "name": "stderr",
     "output_type": "stream",
     "text": [
      "c:\\users\\shardul\\appdata\\local\\programs\\python\\python39\\lib\\site-packages\\sklearn\\base.py:441: UserWarning: X does not have valid feature names, but KNeighborsRegressor was fitted with feature names\n",
      "  warnings.warn(\n"
     ]
    }
   ],
   "source": [
    "pred=best_grid.predict(X_test)"
   ]
  },
  {
   "cell_type": "code",
   "execution_count": 28,
   "metadata": {
    "execution": {
     "iopub.execute_input": "2021-09-03T06:07:23.472637Z",
     "iopub.status.busy": "2021-09-03T06:07:23.472244Z",
     "iopub.status.idle": "2021-09-03T06:07:23.47726Z",
     "shell.execute_reply": "2021-09-03T06:07:23.476216Z",
     "shell.execute_reply.started": "2021-09-03T06:07:23.472595Z"
    },
    "id": "bLpGR6jS7L_P"
   },
   "outputs": [],
   "source": [
    "from sklearn.metrics import mean_absolute_error,mean_squared_error"
   ]
  },
  {
   "cell_type": "code",
   "execution_count": 29,
   "metadata": {
    "execution": {
     "iopub.execute_input": "2021-09-03T06:07:23.479153Z",
     "iopub.status.busy": "2021-09-03T06:07:23.478741Z",
     "iopub.status.idle": "2021-09-03T06:07:23.493597Z",
     "shell.execute_reply": "2021-09-03T06:07:23.492623Z",
     "shell.execute_reply.started": "2021-09-03T06:07:23.479113Z"
    },
    "id": "7hXvt41Z7L14",
    "outputId": "972a9e2e-c915-451a-9d6d-c7987690904e"
   },
   "outputs": [
    {
     "name": "stdout",
     "output_type": "stream",
     "text": [
      "MAE:  0.9244186046511628\n",
      "MSE:  1.7521802325581395\n"
     ]
    }
   ],
   "source": [
    "print(\"MAE: \",mean_absolute_error(y_test,pred))\n",
    "print(\"MSE: \",mean_squared_error(y_test,pred))"
   ]
  },
  {
   "cell_type": "markdown",
   "metadata": {
    "id": "2y3WZ3HH-Mdw"
   },
   "source": [
    "**Using Linear Regression**"
   ]
  },
  {
   "cell_type": "code",
   "execution_count": 30,
   "metadata": {
    "execution": {
     "iopub.execute_input": "2021-09-03T06:07:23.495302Z",
     "iopub.status.busy": "2021-09-03T06:07:23.495016Z",
     "iopub.status.idle": "2021-09-03T06:07:23.500433Z",
     "shell.execute_reply": "2021-09-03T06:07:23.499316Z",
     "shell.execute_reply.started": "2021-09-03T06:07:23.495275Z"
    },
    "id": "Z0aycNK_7ilv"
   },
   "outputs": [],
   "source": [
    "from sklearn.linear_model  import LinearRegression "
   ]
  },
  {
   "cell_type": "code",
   "execution_count": 31,
   "metadata": {
    "execution": {
     "iopub.execute_input": "2021-09-03T06:07:23.501949Z",
     "iopub.status.busy": "2021-09-03T06:07:23.501661Z",
     "iopub.status.idle": "2021-09-03T06:07:23.510979Z",
     "shell.execute_reply": "2021-09-03T06:07:23.510107Z",
     "shell.execute_reply.started": "2021-09-03T06:07:23.501923Z"
    },
    "id": "lDhiiVBx-USS"
   },
   "outputs": [],
   "source": [
    "lr=LinearRegression()"
   ]
  },
  {
   "cell_type": "code",
   "execution_count": 32,
   "metadata": {
    "execution": {
     "iopub.execute_input": "2021-09-03T06:07:23.512727Z",
     "iopub.status.busy": "2021-09-03T06:07:23.512241Z",
     "iopub.status.idle": "2021-09-03T06:07:23.564674Z",
     "shell.execute_reply": "2021-09-03T06:07:23.563653Z",
     "shell.execute_reply.started": "2021-09-03T06:07:23.512687Z"
    },
    "id": "b3Ztdd56-a77"
   },
   "outputs": [],
   "source": [
    "model_1=lr.fit(X_train,y_train)"
   ]
  },
  {
   "cell_type": "code",
   "execution_count": 33,
   "metadata": {
    "execution": {
     "iopub.execute_input": "2021-09-03T06:07:23.566283Z",
     "iopub.status.busy": "2021-09-03T06:07:23.565955Z",
     "iopub.status.idle": "2021-09-03T06:07:23.573148Z",
     "shell.execute_reply": "2021-09-03T06:07:23.572035Z",
     "shell.execute_reply.started": "2021-09-03T06:07:23.566252Z"
    },
    "id": "0IW7cU8K-fsY"
   },
   "outputs": [],
   "source": [
    "pred_1=model_1.predict(X_test)"
   ]
  },
  {
   "cell_type": "code",
   "execution_count": 34,
   "metadata": {
    "execution": {
     "iopub.execute_input": "2021-09-03T06:07:23.574909Z",
     "iopub.status.busy": "2021-09-03T06:07:23.574472Z",
     "iopub.status.idle": "2021-09-03T06:07:23.588748Z",
     "shell.execute_reply": "2021-09-03T06:07:23.587198Z",
     "shell.execute_reply.started": "2021-09-03T06:07:23.574878Z"
    },
    "id": "L3yHjPZo-jbt",
    "outputId": "7b445528-4e1c-4469-c62e-5c500f965825"
   },
   "outputs": [
    {
     "name": "stdout",
     "output_type": "stream",
     "text": [
      "MAE:  0.7520933384246212\n",
      "MSE:  0.929013472561225\n"
     ]
    }
   ],
   "source": [
    "print(\"MAE: \",mean_absolute_error(y_test,pred_1))\n",
    "print(\"MSE: \",mean_squared_error(y_test,pred_1))"
   ]
  },
  {
   "cell_type": "code",
   "execution_count": 35,
   "metadata": {
    "execution": {
     "iopub.execute_input": "2021-09-03T06:07:23.590845Z",
     "iopub.status.busy": "2021-09-03T06:07:23.590369Z",
     "iopub.status.idle": "2021-09-03T06:07:23.602016Z",
     "shell.execute_reply": "2021-09-03T06:07:23.600974Z",
     "shell.execute_reply.started": "2021-09-03T06:07:23.590763Z"
    },
    "id": "JYX1Vj0Z-n5E",
    "outputId": "68052fab-f031-466a-fba4-9ebacb6759d0"
   },
   "outputs": [
    {
     "name": "stdout",
     "output_type": "stream",
     "text": [
      "Accuracy:  0.8893136488619331\n"
     ]
    }
   ],
   "source": [
    "accuracy = lr.score(X_test, y_test)\n",
    "print('Accuracy: ',accuracy)"
   ]
  },
  {
   "cell_type": "markdown",
   "metadata": {
    "id": "XX_ZpZSR-_Kp"
   },
   "source": [
    "**Elastic Net**"
   ]
  },
  {
   "cell_type": "code",
   "execution_count": 36,
   "metadata": {
    "execution": {
     "iopub.execute_input": "2021-09-03T06:07:23.605096Z",
     "iopub.status.busy": "2021-09-03T06:07:23.604715Z",
     "iopub.status.idle": "2021-09-03T06:07:23.614013Z",
     "shell.execute_reply": "2021-09-03T06:07:23.612852Z",
     "shell.execute_reply.started": "2021-09-03T06:07:23.605053Z"
    },
    "id": "5-Ga66r5-tFg"
   },
   "outputs": [],
   "source": [
    "from sklearn.linear_model import ElasticNet"
   ]
  },
  {
   "cell_type": "code",
   "execution_count": 37,
   "metadata": {
    "execution": {
     "iopub.execute_input": "2021-09-03T06:07:23.616303Z",
     "iopub.status.busy": "2021-09-03T06:07:23.615756Z",
     "iopub.status.idle": "2021-09-03T06:07:23.6252Z",
     "shell.execute_reply": "2021-09-03T06:07:23.624269Z",
     "shell.execute_reply.started": "2021-09-03T06:07:23.61626Z"
    },
    "id": "mLUUqDSX_NEm"
   },
   "outputs": [],
   "source": [
    "elastic_net=ElasticNet(alpha=0.01,l1_ratio=0.5)"
   ]
  },
  {
   "cell_type": "code",
   "execution_count": 38,
   "metadata": {
    "execution": {
     "iopub.execute_input": "2021-09-03T06:07:23.62716Z",
     "iopub.status.busy": "2021-09-03T06:07:23.626523Z",
     "iopub.status.idle": "2021-09-03T06:07:23.645883Z",
     "shell.execute_reply": "2021-09-03T06:07:23.643936Z",
     "shell.execute_reply.started": "2021-09-03T06:07:23.627112Z"
    },
    "id": "HCmF8eHD_egj"
   },
   "outputs": [],
   "source": [
    "model_2=elastic_net.fit(X_train,y_train)"
   ]
  },
  {
   "cell_type": "code",
   "execution_count": 39,
   "metadata": {
    "execution": {
     "iopub.execute_input": "2021-09-03T06:07:23.648142Z",
     "iopub.status.busy": "2021-09-03T06:07:23.647512Z",
     "iopub.status.idle": "2021-09-03T06:07:23.656967Z",
     "shell.execute_reply": "2021-09-03T06:07:23.655807Z",
     "shell.execute_reply.started": "2021-09-03T06:07:23.648096Z"
    },
    "id": "P8Ce9qKi_2zk"
   },
   "outputs": [],
   "source": [
    "pred_2=model_2.predict(X_test)"
   ]
  },
  {
   "cell_type": "code",
   "execution_count": 40,
   "metadata": {
    "execution": {
     "iopub.execute_input": "2021-09-03T06:07:23.658539Z",
     "iopub.status.busy": "2021-09-03T06:07:23.658249Z",
     "iopub.status.idle": "2021-09-03T06:07:23.672941Z",
     "shell.execute_reply": "2021-09-03T06:07:23.671067Z",
     "shell.execute_reply.started": "2021-09-03T06:07:23.658513Z"
    },
    "id": "6uFBrZfv_7Bk",
    "outputId": "4338e05c-5797-4314-c459-7c9b74840509"
   },
   "outputs": [
    {
     "name": "stdout",
     "output_type": "stream",
     "text": [
      "MAE:  0.7522801840420621\n",
      "MSE:  0.9261715046704525\n"
     ]
    }
   ],
   "source": [
    "print(\"MAE: \",mean_absolute_error(y_test,pred_2))\n",
    "print(\"MSE: \",mean_squared_error(y_test,pred_2))"
   ]
  },
  {
   "cell_type": "code",
   "execution_count": 41,
   "metadata": {
    "execution": {
     "iopub.execute_input": "2021-09-03T06:07:23.674987Z",
     "iopub.status.busy": "2021-09-03T06:07:23.674523Z",
     "iopub.status.idle": "2021-09-03T06:07:23.686893Z",
     "shell.execute_reply": "2021-09-03T06:07:23.685895Z",
     "shell.execute_reply.started": "2021-09-03T06:07:23.674932Z"
    },
    "id": "j2hDBPEFAB7S",
    "outputId": "bce7e317-e572-4685-be0c-e73a27f26a57"
   },
   "outputs": [
    {
     "name": "stdout",
     "output_type": "stream",
     "text": [
      "Accuracy:  0.8896522521924252\n"
     ]
    }
   ],
   "source": [
    "accuracy = elastic_net.score(X_test, y_test)\n",
    "print('Accuracy: ',accuracy)"
   ]
  }
 ],
 "metadata": {
  "kernelspec": {
   "display_name": "Python 3",
   "language": "python",
   "name": "python3"
  },
  "language_info": {
   "codemirror_mode": {
    "name": "ipython",
    "version": 3
   },
   "file_extension": ".py",
   "mimetype": "text/x-python",
   "name": "python",
   "nbconvert_exporter": "python",
   "pygments_lexer": "ipython3",
   "version": "3.8.8"
  }
 },
 "nbformat": 4,
 "nbformat_minor": 4
}
